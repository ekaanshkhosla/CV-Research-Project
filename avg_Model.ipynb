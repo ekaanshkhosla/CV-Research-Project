{
 "cells": [
  {
   "cell_type": "code",
   "execution_count": 25,
   "id": "7955e6fe-457b-4c48-b789-946aa3834675",
   "metadata": {},
   "outputs": [
    {
     "name": "stdout",
     "output_type": "stream",
     "text": [
      "             img        c0        c1        c2        c3        c4        c5  \\\n",
      "0  img_96590.jpg  0.000663  0.000269  0.000494  0.000330  0.000707  0.000372   \n",
      "1  img_32366.jpg  0.000827  0.000505  0.000337  0.000448  0.000332  0.993964   \n",
      "2  img_99675.jpg  0.000723  0.000576  0.000584  0.000540  0.000611  0.000449   \n",
      "3  img_85937.jpg  0.007143  0.001336  0.001391  0.002822  0.002211  0.797042   \n",
      "4  img_73903.jpg  0.000334  0.000648  0.000470  0.000427  0.000272  0.000492   \n",
      "\n",
      "         c6        c7        c8        c9  \n",
      "0  0.001208  0.000317  0.994577  0.001064  \n",
      "1  0.000365  0.000786  0.000504  0.001932  \n",
      "2  0.984705  0.000496  0.010470  0.000845  \n",
      "3  0.001498  0.004660  0.003735  0.178161  \n",
      "4  0.000573  0.991358  0.002670  0.002756  \n"
     ]
    }
   ],
   "source": [
    "import pandas as pd\n",
    "\n",
    "file_path_1 = 'avg_models/Avg_dinoV2_convNext_without_augmentation.csv'\n",
    "file_path_2 = 'avg_models/Avg_dinoV2_convNext_with_augmentation.csv'\n",
    "\n",
    "df1 = pd.read_csv(file_path_1)\n",
    "df2 = pd.read_csv(file_path_2)\n",
    "\n",
    "avg_df = (df1.iloc[:, 1:] + df2.iloc[:, 1:]) / 2\n",
    "\n",
    "avg_df.insert(0, 'img', df1['img'])\n",
    "\n",
    "print(avg_df.head())"
   ]
  },
  {
   "cell_type": "code",
   "execution_count": 26,
   "id": "4d10f1b0-d464-44c1-ade0-97042be3b53b",
   "metadata": {},
   "outputs": [],
   "source": [
    "avg_df.to_csv('avg_models/Avg_DinoV2_ConvNext.csv')"
   ]
  },
  {
   "cell_type": "code",
   "execution_count": null,
   "id": "6ad8b140-7f3d-409d-b23b-351a782769d6",
   "metadata": {},
   "outputs": [],
   "source": []
  },
  {
   "cell_type": "code",
   "execution_count": null,
   "id": "2955ef49-22ee-45bd-b815-b72eed8704d7",
   "metadata": {},
   "outputs": [],
   "source": []
  }
 ],
 "metadata": {
  "kernelspec": {
   "display_name": "Python 3 (ipykernel)",
   "language": "python",
   "name": "python3"
  },
  "language_info": {
   "codemirror_mode": {
    "name": "ipython",
    "version": 3
   },
   "file_extension": ".py",
   "mimetype": "text/x-python",
   "name": "python",
   "nbconvert_exporter": "python",
   "pygments_lexer": "ipython3",
   "version": "3.11.7"
  }
 },
 "nbformat": 4,
 "nbformat_minor": 5
}
