{
 "cells": [
  {
   "cell_type": "code",
   "execution_count": 1,
   "id": "7de0bc25",
   "metadata": {
    "_cell_guid": "b1076dfc-b9ad-4769-8c92-a6c4dae69d19",
    "_uuid": "8f2839f25d086af736a60e9eeb907d3b93b6e0e5",
    "execution": {
     "iopub.execute_input": "2024-04-14T00:05:07.315304Z",
     "iopub.status.busy": "2024-04-14T00:05:07.315016Z",
     "iopub.status.idle": "2024-04-14T00:05:16.322864Z",
     "shell.execute_reply": "2024-04-14T00:05:16.321896Z"
    },
    "papermill": {
     "duration": 9.015308,
     "end_time": "2024-04-14T00:05:16.325335",
     "exception": false,
     "start_time": "2024-04-14T00:05:07.310027",
     "status": "completed"
    },
    "tags": []
   },
   "outputs": [],
   "source": [
    "from PIL import Image\n",
    "import torch\n",
    "import os\n",
    "import cv2\n",
    "from tqdm import tqdm\n",
    "import copy\n",
    "import torch.optim as optim\n",
    "import numpy as np\n",
    "import optuna\n",
    "from sklearn.metrics import f1_score\n",
    "from optuna.exceptions import TrialPruned\n",
    "import random\n",
    "import torch.nn as nn\n",
    "from torchvision import datasets, models, transforms\n",
    "from torch.utils.data import DataLoader, Dataset\n",
    "import pandas as pd\n",
    "from skimage import io"
   ]
  },
  {
   "cell_type": "code",
   "execution_count": 2,
   "id": "1fd7da5d",
   "metadata": {
    "execution": {
     "iopub.execute_input": "2024-04-14T00:05:16.334861Z",
     "iopub.status.busy": "2024-04-14T00:05:16.334419Z",
     "iopub.status.idle": "2024-04-14T00:05:16.338783Z",
     "shell.execute_reply": "2024-04-14T00:05:16.337951Z"
    },
    "papermill": {
     "duration": 0.011224,
     "end_time": "2024-04-14T00:05:16.340714",
     "exception": false,
     "start_time": "2024-04-14T00:05:16.329490",
     "status": "completed"
    },
    "tags": []
   },
   "outputs": [],
   "source": [
    "working_folder = os.path.abspath(\"\")\n",
    "image_dir = os.path.join(working_folder, \"/kaggle/input/all-images/data_all\")"
   ]
  },
  {
   "cell_type": "code",
   "execution_count": 3,
   "id": "3b55c02f",
   "metadata": {
    "execution": {
     "iopub.execute_input": "2024-04-14T00:05:16.348729Z",
     "iopub.status.busy": "2024-04-14T00:05:16.348460Z",
     "iopub.status.idle": "2024-04-14T00:05:16.352172Z",
     "shell.execute_reply": "2024-04-14T00:05:16.351368Z"
    },
    "papermill": {
     "duration": 0.009899,
     "end_time": "2024-04-14T00:05:16.354079",
     "exception": false,
     "start_time": "2024-04-14T00:05:16.344180",
     "status": "completed"
    },
    "tags": []
   },
   "outputs": [],
   "source": [
    "train_df = '/kaggle/input/train-full/train_full.csv'"
   ]
  },
  {
   "cell_type": "code",
   "execution_count": 4,
   "id": "133c8159",
   "metadata": {
    "execution": {
     "iopub.execute_input": "2024-04-14T00:05:16.362184Z",
     "iopub.status.busy": "2024-04-14T00:05:16.361714Z",
     "iopub.status.idle": "2024-04-14T00:05:16.368528Z",
     "shell.execute_reply": "2024-04-14T00:05:16.367708Z"
    },
    "papermill": {
     "duration": 0.012878,
     "end_time": "2024-04-14T00:05:16.370478",
     "exception": false,
     "start_time": "2024-04-14T00:05:16.357600",
     "status": "completed"
    },
    "tags": []
   },
   "outputs": [],
   "source": [
    "class CustomImageDataset(Dataset):\n",
    "    def __init__(self, csv_file, root_dir, transform):\n",
    "        self.annotations = pd.read_csv(csv_file)\n",
    "        self.root_dir = root_dir\n",
    "        self.transform = transform\n",
    "\n",
    "    def __len__(self):\n",
    "        return len(self.annotations)\n",
    "\n",
    "    def __getitem__(self, index):\n",
    "        img_id = self.annotations.iloc[index, 1]\n",
    "        img_name = os.path.join(self.root_dir, f\"{img_id}\")\n",
    "        image = Image.open(img_name).convert('RGB')\n",
    "        label = int(self.annotations.iloc[index, 0][-1])  # Extract class number\n",
    "\n",
    "        if self.transform:\n",
    "            image = self.transform(image)\n",
    "\n",
    "        return image, label"
   ]
  },
  {
   "cell_type": "code",
   "execution_count": 5,
   "id": "786e04ef",
   "metadata": {
    "execution": {
     "iopub.execute_input": "2024-04-14T00:05:16.378527Z",
     "iopub.status.busy": "2024-04-14T00:05:16.378225Z",
     "iopub.status.idle": "2024-04-14T00:05:16.382909Z",
     "shell.execute_reply": "2024-04-14T00:05:16.382083Z"
    },
    "papermill": {
     "duration": 0.010712,
     "end_time": "2024-04-14T00:05:16.384692",
     "exception": false,
     "start_time": "2024-04-14T00:05:16.373980",
     "status": "completed"
    },
    "tags": []
   },
   "outputs": [],
   "source": [
    "transform = transforms.Compose([\n",
    "    transforms.Resize((224, 224)),\n",
    "    transforms.ToTensor(),\n",
    "    transforms.Normalize(mean=[0.485, 0.456, 0.406], std=[0.229, 0.224, 0.225]),\n",
    "])"
   ]
  },
  {
   "cell_type": "code",
   "execution_count": 6,
   "id": "e1044dd5",
   "metadata": {
    "execution": {
     "iopub.execute_input": "2024-04-14T00:05:16.392745Z",
     "iopub.status.busy": "2024-04-14T00:05:16.392270Z",
     "iopub.status.idle": "2024-04-14T00:05:16.398750Z",
     "shell.execute_reply": "2024-04-14T00:05:16.397919Z"
    },
    "papermill": {
     "duration": 0.012502,
     "end_time": "2024-04-14T00:05:16.400704",
     "exception": false,
     "start_time": "2024-04-14T00:05:16.388202",
     "status": "completed"
    },
    "tags": []
   },
   "outputs": [],
   "source": [
    "class SingleFolderDataset(Dataset):\n",
    "    def __init__(self, directory, transform):\n",
    "        self.directory = directory\n",
    "        self.transform = transform\n",
    "        self.image_filenames = [f for f in os.listdir(directory) if os.path.isfile(os.path.join(directory, f))]\n",
    "\n",
    "    def __len__(self):\n",
    "        return len(self.image_filenames)\n",
    "\n",
    "    def __getitem__(self, idx):\n",
    "        image_name = self.image_filenames[idx]\n",
    "        image_path = os.path.join(self.directory, image_name)\n",
    "        image = Image.open(image_path).convert('RGB')\n",
    "        if self.transform:\n",
    "            image = self.transform(image)\n",
    "        return image, image_name"
   ]
  },
  {
   "cell_type": "code",
   "execution_count": 7,
   "id": "865ac236",
   "metadata": {
    "execution": {
     "iopub.execute_input": "2024-04-14T00:05:16.408528Z",
     "iopub.status.busy": "2024-04-14T00:05:16.408281Z",
     "iopub.status.idle": "2024-04-14T00:05:16.414080Z",
     "shell.execute_reply": "2024-04-14T00:05:16.413280Z"
    },
    "papermill": {
     "duration": 0.011908,
     "end_time": "2024-04-14T00:05:16.415999",
     "exception": false,
     "start_time": "2024-04-14T00:05:16.404091",
     "status": "completed"
    },
    "tags": []
   },
   "outputs": [],
   "source": [
    "def make_predictions_sigmoid(data_loader):\n",
    "    model.eval()\n",
    "    y_pred = []\n",
    "    file_names = []\n",
    "    with torch.no_grad():\n",
    "        for inputs, paths in (data_loader):\n",
    "            inputs = inputs.to(device)\n",
    "            outputs = model(inputs)\n",
    "            probabilities = torch.nn.functional.softmax(outputs, dim=1)\n",
    "            y_pred.extend(probabilities.cpu().numpy())\n",
    "            file_names.extend([os.path.basename(path) for path in paths])\n",
    "            \n",
    "    return file_names, y_pred"
   ]
  },
  {
   "cell_type": "code",
   "execution_count": 8,
   "id": "e4bb0b94",
   "metadata": {
    "execution": {
     "iopub.execute_input": "2024-04-14T00:05:16.423885Z",
     "iopub.status.busy": "2024-04-14T00:05:16.423624Z",
     "iopub.status.idle": "2024-04-14T00:05:16.429365Z",
     "shell.execute_reply": "2024-04-14T00:05:16.428588Z"
    },
    "papermill": {
     "duration": 0.011655,
     "end_time": "2024-04-14T00:05:16.431211",
     "exception": false,
     "start_time": "2024-04-14T00:05:16.419556",
     "status": "completed"
    },
    "tags": []
   },
   "outputs": [],
   "source": [
    "class CustomDINONormModel(nn.Module):\n",
    "    def __init__(self, dino_model, fc_units, dropout_rate):\n",
    "        super(CustomDINONormModel, self).__init__()\n",
    "        self.dino_model = dino_model\n",
    "        self.classifier = nn.Sequential(\n",
    "            nn.Linear(1024, fc_units),\n",
    "            nn.ReLU(),\n",
    "            nn.Dropout(dropout_rate),\n",
    "            nn.Linear(fc_units, 10),\n",
    "        )\n",
    "\n",
    "    def forward(self, x):\n",
    "        x = self.dino_model(x)\n",
    "        x = self.classifier(x)\n",
    "        return x"
   ]
  },
  {
   "cell_type": "code",
   "execution_count": 9,
   "id": "c8f7324f",
   "metadata": {
    "execution": {
     "iopub.execute_input": "2024-04-14T00:05:16.439096Z",
     "iopub.status.busy": "2024-04-14T00:05:16.438845Z",
     "iopub.status.idle": "2024-04-14T11:35:52.588219Z",
     "shell.execute_reply": "2024-04-14T11:35:52.587021Z"
    },
    "papermill": {
     "duration": 41436.165686,
     "end_time": "2024-04-14T11:35:52.600281",
     "exception": false,
     "start_time": "2024-04-14T00:05:16.434595",
     "status": "completed"
    },
    "tags": []
   },
   "outputs": [
    {
     "name": "stderr",
     "output_type": "stream",
     "text": [
      "Downloading: \"https://github.com/facebookresearch/dinov2/zipball/main\" to /root/.cache/torch/hub/main.zip\n",
      "/root/.cache/torch/hub/facebookresearch_dinov2_main/dinov2/layers/swiglu_ffn.py:51: UserWarning: xFormers is not available (SwiGLU)\n",
      "  warnings.warn(\"xFormers is not available (SwiGLU)\")\n",
      "/root/.cache/torch/hub/facebookresearch_dinov2_main/dinov2/layers/attention.py:33: UserWarning: xFormers is not available (Attention)\n",
      "  warnings.warn(\"xFormers is not available (Attention)\")\n",
      "/root/.cache/torch/hub/facebookresearch_dinov2_main/dinov2/layers/block.py:40: UserWarning: xFormers is not available (Block)\n",
      "  warnings.warn(\"xFormers is not available (Block)\")\n",
      "Downloading: \"https://dl.fbaipublicfiles.com/dinov2/dinov2_vitl14/dinov2_vitl14_pretrain.pth\" to /root/.cache/torch/hub/checkpoints/dinov2_vitl14_pretrain.pth\n",
      "100%|██████████| 1.13G/1.13G [00:04<00:00, 296MB/s]\n"
     ]
    },
    {
     "name": "stdout",
     "output_type": "stream",
     "text": [
      "model load_compelete\n",
      "Epoch 1, Loss: 0.22483122983068238\n",
      "Finished Training\n"
     ]
    },
    {
     "name": "stderr",
     "output_type": "stream",
     "text": [
      "Using cache found in /root/.cache/torch/hub/facebookresearch_dinov2_main\n"
     ]
    },
    {
     "name": "stdout",
     "output_type": "stream",
     "text": [
      "model load_compelete\n",
      "Epoch 1, Loss: 0.2577708106712431\n",
      "Finished Training\n"
     ]
    },
    {
     "name": "stderr",
     "output_type": "stream",
     "text": [
      "Using cache found in /root/.cache/torch/hub/facebookresearch_dinov2_main\n"
     ]
    },
    {
     "name": "stdout",
     "output_type": "stream",
     "text": [
      "model load_compelete\n",
      "Epoch 1, Loss: 0.23041463029156217\n",
      "Finished Training\n"
     ]
    },
    {
     "name": "stderr",
     "output_type": "stream",
     "text": [
      "Using cache found in /root/.cache/torch/hub/facebookresearch_dinov2_main\n"
     ]
    },
    {
     "name": "stdout",
     "output_type": "stream",
     "text": [
      "model load_compelete\n",
      "Epoch 1, Loss: 0.22039951550749523\n",
      "Finished Training\n"
     ]
    },
    {
     "name": "stderr",
     "output_type": "stream",
     "text": [
      "Using cache found in /root/.cache/torch/hub/facebookresearch_dinov2_main\n"
     ]
    },
    {
     "name": "stdout",
     "output_type": "stream",
     "text": [
      "model load_compelete\n",
      "Epoch 1, Loss: 0.23192483515355236\n",
      "Finished Training\n"
     ]
    },
    {
     "name": "stderr",
     "output_type": "stream",
     "text": [
      "Using cache found in /root/.cache/torch/hub/facebookresearch_dinov2_main\n"
     ]
    },
    {
     "name": "stdout",
     "output_type": "stream",
     "text": [
      "model load_compelete\n",
      "Epoch 1, Loss: 0.2355778476280166\n",
      "Finished Training\n"
     ]
    },
    {
     "name": "stderr",
     "output_type": "stream",
     "text": [
      "Using cache found in /root/.cache/torch/hub/facebookresearch_dinov2_main\n"
     ]
    },
    {
     "name": "stdout",
     "output_type": "stream",
     "text": [
      "model load_compelete\n",
      "Epoch 1, Loss: 0.21136584276026277\n",
      "Finished Training\n"
     ]
    },
    {
     "name": "stderr",
     "output_type": "stream",
     "text": [
      "Using cache found in /root/.cache/torch/hub/facebookresearch_dinov2_main\n"
     ]
    },
    {
     "name": "stdout",
     "output_type": "stream",
     "text": [
      "model load_compelete\n",
      "Epoch 1, Loss: 0.24163333156208075\n",
      "Finished Training\n"
     ]
    },
    {
     "name": "stderr",
     "output_type": "stream",
     "text": [
      "Using cache found in /root/.cache/torch/hub/facebookresearch_dinov2_main\n"
     ]
    },
    {
     "name": "stdout",
     "output_type": "stream",
     "text": [
      "model load_compelete\n",
      "Epoch 1, Loss: 0.2148742160421045\n",
      "Finished Training\n"
     ]
    }
   ],
   "source": [
    "for trail in range(0, 9):\n",
    "    train_dataset = CustomImageDataset(train_df, image_dir, transform=transform)\n",
    "    train_loader = DataLoader(train_dataset, batch_size=4, shuffle=True, num_workers=4)\n",
    "    \n",
    "    dino_model = torch.hub.load(\"facebookresearch/dinov2\", \"dinov2_vitl14\")\n",
    "    model = CustomDINONormModel(dino_model, 1216, 0.45)\n",
    "    \n",
    "    criterion = nn.CrossEntropyLoss()\n",
    "    optimizer = optim.Adam(model.parameters(), lr=1.0504088130751306e-06)\n",
    "    \n",
    "    device = torch.device(\"cuda\" if torch.cuda.is_available() else \"cpu\")\n",
    "    model.to(device)\n",
    "    \n",
    "    print(\"model load_compelete\")\n",
    "    \n",
    "    dataset = SingleFolderDataset(directory='/kaggle/input/state-farm-distracted-driver-detection/imgs/test', transform=transform)\n",
    "    test_loader = DataLoader(dataset, batch_size=4, shuffle=False, num_workers=4)\n",
    "\n",
    "    def train_model(model, criterion, optimizer, num_epochs, trail):\n",
    "        for epoch in (range(num_epochs)):\n",
    "            model.train()\n",
    "            running_loss = 0.0\n",
    "            for inputs, labels in (train_loader):\n",
    "                inputs, labels = inputs.to(device), labels.to(device)\n",
    "                optimizer.zero_grad()\n",
    "                outputs = model(inputs)\n",
    "                loss = criterion(outputs, labels)\n",
    "                loss.backward()\n",
    "                optimizer.step()\n",
    "                running_loss += loss.item()\n",
    "            print(f'Epoch {epoch+1}, Loss: {running_loss/len(train_loader)}')\n",
    "\n",
    "            file_names, preds = make_predictions_sigmoid(test_loader)\n",
    "            submission_df = pd.DataFrame(preds, columns=[f'c{i}' for i in range(10)])\n",
    "            submission_df.insert(0, 'img', file_names)\n",
    "            submission = \"submission\" + str(trail) + str(epoch) + \".csv\"\n",
    "            submission_df.to_csv(submission, index=False)       \n",
    "\n",
    "        print('Finished Training')\n",
    "    \n",
    "    train_model(model, criterion, optimizer, 1, trail)\n",
    "    "
   ]
  },
  {
   "cell_type": "code",
   "execution_count": null,
   "id": "d9cc4050",
   "metadata": {
    "papermill": {
     "duration": 0.010191,
     "end_time": "2024-04-14T11:35:52.620755",
     "exception": false,
     "start_time": "2024-04-14T11:35:52.610564",
     "status": "completed"
    },
    "tags": []
   },
   "outputs": [],
   "source": []
  }
 ],
 "metadata": {
  "kaggle": {
   "accelerator": "gpu",
   "dataSources": [
    {
     "databundleVersionId": 868335,
     "sourceId": 5048,
     "sourceType": "competition"
    },
    {
     "datasetId": 4499671,
     "sourceId": 7706955,
     "sourceType": "datasetVersion"
    },
    {
     "datasetId": 4557739,
     "sourceId": 7786938,
     "sourceType": "datasetVersion"
    }
   ],
   "dockerImageVersionId": 30674,
   "isGpuEnabled": true,
   "isInternetEnabled": true,
   "language": "python",
   "sourceType": "notebook"
  },
  "kernelspec": {
   "display_name": "Python 3",
   "language": "python",
   "name": "python3"
  },
  "language_info": {
   "codemirror_mode": {
    "name": "ipython",
    "version": 3
   },
   "file_extension": ".py",
   "mimetype": "text/x-python",
   "name": "python",
   "nbconvert_exporter": "python",
   "pygments_lexer": "ipython3",
   "version": "3.10.13"
  },
  "papermill": {
   "default_parameters": {},
   "duration": 41450.551182,
   "end_time": "2024-04-14T11:35:55.116115",
   "environment_variables": {},
   "exception": null,
   "input_path": "__notebook__.ipynb",
   "output_path": "__notebook__.ipynb",
   "parameters": {},
   "start_time": "2024-04-14T00:05:04.564933",
   "version": "2.5.0"
  }
 },
 "nbformat": 4,
 "nbformat_minor": 5
}
