{
 "cells": [
  {
   "cell_type": "code",
   "execution_count": 1,
   "id": "51b215b6",
   "metadata": {
    "_cell_guid": "b1076dfc-b9ad-4769-8c92-a6c4dae69d19",
    "_uuid": "8f2839f25d086af736a60e9eeb907d3b93b6e0e5",
    "execution": {
     "iopub.execute_input": "2024-04-13T11:26:34.486326Z",
     "iopub.status.busy": "2024-04-13T11:26:34.485484Z",
     "iopub.status.idle": "2024-04-13T11:26:43.345984Z",
     "shell.execute_reply": "2024-04-13T11:26:43.345126Z"
    },
    "papermill": {
     "duration": 8.868698,
     "end_time": "2024-04-13T11:26:43.348528",
     "exception": false,
     "start_time": "2024-04-13T11:26:34.479830",
     "status": "completed"
    },
    "tags": []
   },
   "outputs": [],
   "source": [
    "from PIL import Image\n",
    "import torch\n",
    "import os\n",
    "import cv2\n",
    "from tqdm import tqdm\n",
    "import copy\n",
    "import torch.optim as optim\n",
    "import numpy as np\n",
    "import optuna\n",
    "from sklearn.metrics import f1_score\n",
    "from optuna.exceptions import TrialPruned\n",
    "import random\n",
    "import torch.nn as nn\n",
    "from torchvision import datasets, models, transforms\n",
    "from torch.utils.data import DataLoader, Dataset\n",
    "import pandas as pd\n",
    "from skimage import io"
   ]
  },
  {
   "cell_type": "code",
   "execution_count": 2,
   "id": "1ffa5142",
   "metadata": {
    "execution": {
     "iopub.execute_input": "2024-04-13T11:26:43.358402Z",
     "iopub.status.busy": "2024-04-13T11:26:43.357690Z",
     "iopub.status.idle": "2024-04-13T11:26:43.362249Z",
     "shell.execute_reply": "2024-04-13T11:26:43.361380Z"
    },
    "papermill": {
     "duration": 0.011162,
     "end_time": "2024-04-13T11:26:43.364032",
     "exception": false,
     "start_time": "2024-04-13T11:26:43.352870",
     "status": "completed"
    },
    "tags": []
   },
   "outputs": [],
   "source": [
    "working_folder = os.path.abspath(\"\")\n",
    "image_dir = os.path.join(working_folder, \"/kaggle/input/all-images/data_all\")"
   ]
  },
  {
   "cell_type": "code",
   "execution_count": 3,
   "id": "2e286e64",
   "metadata": {
    "execution": {
     "iopub.execute_input": "2024-04-13T11:26:43.372328Z",
     "iopub.status.busy": "2024-04-13T11:26:43.371682Z",
     "iopub.status.idle": "2024-04-13T11:26:43.375518Z",
     "shell.execute_reply": "2024-04-13T11:26:43.374723Z"
    },
    "papermill": {
     "duration": 0.010068,
     "end_time": "2024-04-13T11:26:43.377565",
     "exception": false,
     "start_time": "2024-04-13T11:26:43.367497",
     "status": "completed"
    },
    "tags": []
   },
   "outputs": [],
   "source": [
    "train_df = '/kaggle/input/train-full/train_full.csv'"
   ]
  },
  {
   "cell_type": "code",
   "execution_count": 4,
   "id": "9ea683e2",
   "metadata": {
    "execution": {
     "iopub.execute_input": "2024-04-13T11:26:43.385787Z",
     "iopub.status.busy": "2024-04-13T11:26:43.385300Z",
     "iopub.status.idle": "2024-04-13T11:26:43.392220Z",
     "shell.execute_reply": "2024-04-13T11:26:43.391445Z"
    },
    "papermill": {
     "duration": 0.013015,
     "end_time": "2024-04-13T11:26:43.394046",
     "exception": false,
     "start_time": "2024-04-13T11:26:43.381031",
     "status": "completed"
    },
    "tags": []
   },
   "outputs": [],
   "source": [
    "class CustomImageDataset(Dataset):\n",
    "    def __init__(self, csv_file, root_dir, transform):\n",
    "        self.annotations = pd.read_csv(csv_file)\n",
    "        self.root_dir = root_dir\n",
    "        self.transform = transform\n",
    "\n",
    "    def __len__(self):\n",
    "        return len(self.annotations)\n",
    "\n",
    "    def __getitem__(self, index):\n",
    "        img_id = self.annotations.iloc[index, 1]\n",
    "        img_name = os.path.join(self.root_dir, f\"{img_id}\")\n",
    "        image = Image.open(img_name).convert('RGB')\n",
    "        label = int(self.annotations.iloc[index, 0][-1])  # Extract class number\n",
    "\n",
    "        if self.transform:\n",
    "            image = self.transform(image)\n",
    "\n",
    "        return image, label"
   ]
  },
  {
   "cell_type": "code",
   "execution_count": 5,
   "id": "f0716020",
   "metadata": {
    "execution": {
     "iopub.execute_input": "2024-04-13T11:26:43.402336Z",
     "iopub.status.busy": "2024-04-13T11:26:43.401833Z",
     "iopub.status.idle": "2024-04-13T11:26:43.408342Z",
     "shell.execute_reply": "2024-04-13T11:26:43.407517Z"
    },
    "papermill": {
     "duration": 0.012616,
     "end_time": "2024-04-13T11:26:43.410218",
     "exception": false,
     "start_time": "2024-04-13T11:26:43.397602",
     "status": "completed"
    },
    "tags": []
   },
   "outputs": [],
   "source": [
    "transform = transforms.Compose([\n",
    "    transforms.Resize((224, 224)),  \n",
    "    transforms.ColorJitter(\n",
    "        brightness=(0.75, 1.25), \n",
    "        contrast=(0.75, 1.25),    \n",
    "        saturation=(0.5, 1.5),   \n",
    "        hue=(-0.05, 0.05)\n",
    "    ),\n",
    "    transforms.RandomAffine(\n",
    "        degrees=(-5, 5),\n",
    "        translate=None,\n",
    "        scale=None,\n",
    "        shear=(-5, 5)\n",
    "    ),\n",
    "    transforms.RandomPerspective(\n",
    "        distortion_scale=0.15,\n",
    "        p=0.5,\n",
    "        fill=0\n",
    "    ),\n",
    "    transforms.ToTensor(),\n",
    "    transforms.Normalize(mean=[0.485, 0.456, 0.406], std=[0.229, 0.224, 0.225])  # Normalize images\n",
    "])"
   ]
  },
  {
   "cell_type": "code",
   "execution_count": 6,
   "id": "62689d32",
   "metadata": {
    "execution": {
     "iopub.execute_input": "2024-04-13T11:26:43.418375Z",
     "iopub.status.busy": "2024-04-13T11:26:43.417832Z",
     "iopub.status.idle": "2024-04-13T11:26:43.424166Z",
     "shell.execute_reply": "2024-04-13T11:26:43.423380Z"
    },
    "papermill": {
     "duration": 0.012415,
     "end_time": "2024-04-13T11:26:43.426061",
     "exception": false,
     "start_time": "2024-04-13T11:26:43.413646",
     "status": "completed"
    },
    "tags": []
   },
   "outputs": [],
   "source": [
    "class SingleFolderDataset(Dataset):\n",
    "    def __init__(self, directory, transform):\n",
    "        self.directory = directory\n",
    "        self.transform = transform\n",
    "        self.image_filenames = [f for f in os.listdir(directory) if os.path.isfile(os.path.join(directory, f))]\n",
    "\n",
    "    def __len__(self):\n",
    "        return len(self.image_filenames)\n",
    "\n",
    "    def __getitem__(self, idx):\n",
    "        image_name = self.image_filenames[idx]\n",
    "        image_path = os.path.join(self.directory, image_name)\n",
    "        image = Image.open(image_path).convert('RGB')\n",
    "        if self.transform:\n",
    "            image = self.transform(image)\n",
    "        return image, image_name"
   ]
  },
  {
   "cell_type": "code",
   "execution_count": 7,
   "id": "ac6aaf97",
   "metadata": {
    "execution": {
     "iopub.execute_input": "2024-04-13T11:26:43.434321Z",
     "iopub.status.busy": "2024-04-13T11:26:43.433659Z",
     "iopub.status.idle": "2024-04-13T11:26:43.439628Z",
     "shell.execute_reply": "2024-04-13T11:26:43.438816Z"
    },
    "papermill": {
     "duration": 0.012026,
     "end_time": "2024-04-13T11:26:43.441560",
     "exception": false,
     "start_time": "2024-04-13T11:26:43.429534",
     "status": "completed"
    },
    "tags": []
   },
   "outputs": [],
   "source": [
    "def make_predictions_sigmoid(data_loader):\n",
    "    model.eval()\n",
    "    y_pred = []\n",
    "    file_names = []\n",
    "    with torch.no_grad():\n",
    "        for inputs, paths in (data_loader):\n",
    "            inputs = inputs.to(device)\n",
    "            outputs = model(inputs)\n",
    "            probabilities = torch.nn.functional.softmax(outputs, dim=1)\n",
    "            y_pred.extend(probabilities.cpu().numpy())\n",
    "            file_names.extend([os.path.basename(path) for path in paths])\n",
    "            \n",
    "    return file_names, y_pred"
   ]
  },
  {
   "cell_type": "code",
   "execution_count": 8,
   "id": "aecf3df7",
   "metadata": {
    "execution": {
     "iopub.execute_input": "2024-04-13T11:26:43.449445Z",
     "iopub.status.busy": "2024-04-13T11:26:43.449156Z",
     "iopub.status.idle": "2024-04-13T11:26:43.454761Z",
     "shell.execute_reply": "2024-04-13T11:26:43.453962Z"
    },
    "papermill": {
     "duration": 0.011554,
     "end_time": "2024-04-13T11:26:43.456628",
     "exception": false,
     "start_time": "2024-04-13T11:26:43.445074",
     "status": "completed"
    },
    "tags": []
   },
   "outputs": [],
   "source": [
    "class CustomDINONormModel(nn.Module):\n",
    "    def __init__(self, dino_model, fc_units, dropout_rate):\n",
    "        super(CustomDINONormModel, self).__init__()\n",
    "        self.dino_model = dino_model\n",
    "        self.classifier = nn.Sequential(\n",
    "            nn.Linear(1024, fc_units),\n",
    "            nn.ReLU(),\n",
    "            nn.Dropout(dropout_rate),\n",
    "            nn.Linear(fc_units, 10),\n",
    "        )\n",
    "\n",
    "    def forward(self, x):\n",
    "        x = self.dino_model(x)\n",
    "        x = self.classifier(x)\n",
    "        return x"
   ]
  },
  {
   "cell_type": "code",
   "execution_count": 9,
   "id": "51ff4c64",
   "metadata": {
    "execution": {
     "iopub.execute_input": "2024-04-13T11:26:43.464488Z",
     "iopub.status.busy": "2024-04-13T11:26:43.464216Z",
     "iopub.status.idle": "2024-04-13T23:00:46.403878Z",
     "shell.execute_reply": "2024-04-13T23:00:46.402722Z"
    },
    "papermill": {
     "duration": 41642.955827,
     "end_time": "2024-04-13T23:00:46.415846",
     "exception": false,
     "start_time": "2024-04-13T11:26:43.460019",
     "status": "completed"
    },
    "tags": []
   },
   "outputs": [
    {
     "name": "stderr",
     "output_type": "stream",
     "text": [
      "Downloading: \"https://github.com/facebookresearch/dinov2/zipball/main\" to /root/.cache/torch/hub/main.zip\n",
      "/root/.cache/torch/hub/facebookresearch_dinov2_main/dinov2/layers/swiglu_ffn.py:51: UserWarning: xFormers is not available (SwiGLU)\n",
      "  warnings.warn(\"xFormers is not available (SwiGLU)\")\n",
      "/root/.cache/torch/hub/facebookresearch_dinov2_main/dinov2/layers/attention.py:33: UserWarning: xFormers is not available (Attention)\n",
      "  warnings.warn(\"xFormers is not available (Attention)\")\n",
      "/root/.cache/torch/hub/facebookresearch_dinov2_main/dinov2/layers/block.py:40: UserWarning: xFormers is not available (Block)\n",
      "  warnings.warn(\"xFormers is not available (Block)\")\n",
      "Downloading: \"https://dl.fbaipublicfiles.com/dinov2/dinov2_vitl14/dinov2_vitl14_pretrain.pth\" to /root/.cache/torch/hub/checkpoints/dinov2_vitl14_pretrain.pth\n",
      "100%|██████████| 1.13G/1.13G [00:04<00:00, 299MB/s]\n"
     ]
    },
    {
     "name": "stdout",
     "output_type": "stream",
     "text": [
      "model load_compelete\n",
      "Epoch 1, Loss: 0.25613601562842664\n",
      "Finished Training\n"
     ]
    },
    {
     "name": "stderr",
     "output_type": "stream",
     "text": [
      "Using cache found in /root/.cache/torch/hub/facebookresearch_dinov2_main\n"
     ]
    },
    {
     "name": "stdout",
     "output_type": "stream",
     "text": [
      "model load_compelete\n",
      "Epoch 1, Loss: 0.28739475348259613\n",
      "Finished Training\n"
     ]
    },
    {
     "name": "stderr",
     "output_type": "stream",
     "text": [
      "Using cache found in /root/.cache/torch/hub/facebookresearch_dinov2_main\n"
     ]
    },
    {
     "name": "stdout",
     "output_type": "stream",
     "text": [
      "model load_compelete\n",
      "Epoch 1, Loss: 0.2401368199673867\n",
      "Finished Training\n"
     ]
    },
    {
     "name": "stderr",
     "output_type": "stream",
     "text": [
      "Using cache found in /root/.cache/torch/hub/facebookresearch_dinov2_main\n"
     ]
    },
    {
     "name": "stdout",
     "output_type": "stream",
     "text": [
      "model load_compelete\n",
      "Epoch 1, Loss: 0.26486205402051494\n",
      "Finished Training\n"
     ]
    },
    {
     "name": "stderr",
     "output_type": "stream",
     "text": [
      "Using cache found in /root/.cache/torch/hub/facebookresearch_dinov2_main\n"
     ]
    },
    {
     "name": "stdout",
     "output_type": "stream",
     "text": [
      "model load_compelete\n",
      "Epoch 1, Loss: 0.2618322355779538\n",
      "Finished Training\n"
     ]
    },
    {
     "name": "stderr",
     "output_type": "stream",
     "text": [
      "Using cache found in /root/.cache/torch/hub/facebookresearch_dinov2_main\n"
     ]
    },
    {
     "name": "stdout",
     "output_type": "stream",
     "text": [
      "model load_compelete\n",
      "Epoch 1, Loss: 0.24986569277529846\n",
      "Finished Training\n"
     ]
    },
    {
     "name": "stderr",
     "output_type": "stream",
     "text": [
      "Using cache found in /root/.cache/torch/hub/facebookresearch_dinov2_main\n"
     ]
    },
    {
     "name": "stdout",
     "output_type": "stream",
     "text": [
      "model load_compelete\n",
      "Epoch 1, Loss: 0.26085545313647573\n",
      "Finished Training\n"
     ]
    },
    {
     "name": "stderr",
     "output_type": "stream",
     "text": [
      "Using cache found in /root/.cache/torch/hub/facebookresearch_dinov2_main\n"
     ]
    },
    {
     "name": "stdout",
     "output_type": "stream",
     "text": [
      "model load_compelete\n",
      "Epoch 1, Loss: 0.26085082752675137\n",
      "Finished Training\n"
     ]
    },
    {
     "name": "stderr",
     "output_type": "stream",
     "text": [
      "Using cache found in /root/.cache/torch/hub/facebookresearch_dinov2_main\n"
     ]
    },
    {
     "name": "stdout",
     "output_type": "stream",
     "text": [
      "model load_compelete\n",
      "Epoch 1, Loss: 0.2666510195922637\n",
      "Finished Training\n"
     ]
    }
   ],
   "source": [
    "for trail in range(0, 9):\n",
    "    train_dataset = CustomImageDataset(train_df, image_dir, transform=transform)\n",
    "    train_loader = DataLoader(train_dataset, batch_size=4, shuffle=True, num_workers=4)\n",
    "    \n",
    "    dino_model = torch.hub.load(\"facebookresearch/dinov2\", \"dinov2_vitl14\")\n",
    "    model = CustomDINONormModel(dino_model, 1216, 0.45)\n",
    "    \n",
    "    criterion = nn.CrossEntropyLoss()\n",
    "    optimizer = optim.Adam(model.parameters(), lr=1.0504088130751306e-06)\n",
    "    \n",
    "    device = torch.device(\"cuda\" if torch.cuda.is_available() else \"cpu\")\n",
    "    model.to(device)\n",
    "    \n",
    "    print(\"model load_compelete\")\n",
    "    \n",
    "    dataset = SingleFolderDataset(directory='/kaggle/input/state-farm-distracted-driver-detection/imgs/test', transform=transform)\n",
    "    test_loader = DataLoader(dataset, batch_size=4, shuffle=False, num_workers=4)\n",
    "\n",
    "    def train_model(model, criterion, optimizer, num_epochs, trail):\n",
    "        for epoch in (range(num_epochs)):\n",
    "            model.train()\n",
    "            running_loss = 0.0\n",
    "            for inputs, labels in (train_loader):\n",
    "                inputs, labels = inputs.to(device), labels.to(device)\n",
    "                optimizer.zero_grad()\n",
    "                outputs = model(inputs)\n",
    "                loss = criterion(outputs, labels)\n",
    "                loss.backward()\n",
    "                optimizer.step()\n",
    "                running_loss += loss.item()\n",
    "            print(f'Epoch {epoch+1}, Loss: {running_loss/len(train_loader)}')\n",
    "\n",
    "            file_names, preds = make_predictions_sigmoid(test_loader)\n",
    "            submission_df = pd.DataFrame(preds, columns=[f'c{i}' for i in range(10)])\n",
    "            submission_df.insert(0, 'img', file_names)\n",
    "            submission = \"submission\" + str(trail) + str(epoch) + \".csv\"\n",
    "            submission_df.to_csv(submission, index=False)       \n",
    "\n",
    "        print('Finished Training')\n",
    "    \n",
    "    train_model(model, criterion, optimizer, 1, trail)\n",
    "    "
   ]
  },
  {
   "cell_type": "code",
   "execution_count": null,
   "id": "db4fff22",
   "metadata": {
    "papermill": {
     "duration": 0.009282,
     "end_time": "2024-04-13T23:00:46.434618",
     "exception": false,
     "start_time": "2024-04-13T23:00:46.425336",
     "status": "completed"
    },
    "tags": []
   },
   "outputs": [],
   "source": []
  }
 ],
 "metadata": {
  "kaggle": {
   "accelerator": "gpu",
   "dataSources": [
    {
     "databundleVersionId": 868335,
     "sourceId": 5048,
     "sourceType": "competition"
    },
    {
     "datasetId": 4499671,
     "sourceId": 7706955,
     "sourceType": "datasetVersion"
    },
    {
     "datasetId": 4557739,
     "sourceId": 7786938,
     "sourceType": "datasetVersion"
    }
   ],
   "dockerImageVersionId": 30674,
   "isGpuEnabled": true,
   "isInternetEnabled": true,
   "language": "python",
   "sourceType": "notebook"
  },
  "kernelspec": {
   "display_name": "Python 3",
   "language": "python",
   "name": "python3"
  },
  "language_info": {
   "codemirror_mode": {
    "name": "ipython",
    "version": 3
   },
   "file_extension": ".py",
   "mimetype": "text/x-python",
   "name": "python",
   "nbconvert_exporter": "python",
   "pygments_lexer": "ipython3",
   "version": "3.10.13"
  },
  "papermill": {
   "default_parameters": {},
   "duration": 41656.841906,
   "end_time": "2024-04-13T23:00:48.448986",
   "environment_variables": {},
   "exception": null,
   "input_path": "__notebook__.ipynb",
   "output_path": "__notebook__.ipynb",
   "parameters": {},
   "start_time": "2024-04-13T11:26:31.607080",
   "version": "2.5.0"
  }
 },
 "nbformat": 4,
 "nbformat_minor": 5
}
