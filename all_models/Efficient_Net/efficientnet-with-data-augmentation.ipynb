{
 "cells": [
  {
   "cell_type": "code",
   "execution_count": 1,
   "id": "cf4c22e3",
   "metadata": {
    "_cell_guid": "b1076dfc-b9ad-4769-8c92-a6c4dae69d19",
    "_uuid": "8f2839f25d086af736a60e9eeb907d3b93b6e0e5",
    "execution": {
     "iopub.execute_input": "2024-04-28T09:59:18.531152Z",
     "iopub.status.busy": "2024-04-28T09:59:18.530722Z",
     "iopub.status.idle": "2024-04-28T09:59:28.853388Z",
     "shell.execute_reply": "2024-04-28T09:59:28.852319Z"
    },
    "papermill": {
     "duration": 10.331149,
     "end_time": "2024-04-28T09:59:28.855895",
     "exception": false,
     "start_time": "2024-04-28T09:59:18.524746",
     "status": "completed"
    },
    "tags": []
   },
   "outputs": [],
   "source": [
    "from PIL import Image\n",
    "import torch\n",
    "import os\n",
    "import cv2\n",
    "from tqdm import tqdm\n",
    "import copy\n",
    "import torch.optim as optim\n",
    "import numpy as np\n",
    "import optuna\n",
    "from sklearn.metrics import f1_score\n",
    "from optuna.exceptions import TrialPruned\n",
    "import random\n",
    "import torch.nn as nn\n",
    "from torchvision import datasets, models, transforms\n",
    "from torch.utils.data import DataLoader, Dataset\n",
    "import pandas as pd\n",
    "from skimage import io"
   ]
  },
  {
   "cell_type": "code",
   "execution_count": 2,
   "id": "9a7ae960",
   "metadata": {
    "execution": {
     "iopub.execute_input": "2024-04-28T09:59:28.866030Z",
     "iopub.status.busy": "2024-04-28T09:59:28.865083Z",
     "iopub.status.idle": "2024-04-28T09:59:28.869716Z",
     "shell.execute_reply": "2024-04-28T09:59:28.868964Z"
    },
    "papermill": {
     "duration": 0.011453,
     "end_time": "2024-04-28T09:59:28.871641",
     "exception": false,
     "start_time": "2024-04-28T09:59:28.860188",
     "status": "completed"
    },
    "tags": []
   },
   "outputs": [],
   "source": [
    "working_folder = os.path.abspath(\"\")\n",
    "image_dir = os.path.join(working_folder, \"/kaggle/input/all-images/data_all\")"
   ]
  },
  {
   "cell_type": "code",
   "execution_count": 3,
   "id": "6a6d929e",
   "metadata": {
    "execution": {
     "iopub.execute_input": "2024-04-28T09:59:28.880652Z",
     "iopub.status.busy": "2024-04-28T09:59:28.879958Z",
     "iopub.status.idle": "2024-04-28T09:59:28.883912Z",
     "shell.execute_reply": "2024-04-28T09:59:28.883249Z"
    },
    "papermill": {
     "duration": 0.010422,
     "end_time": "2024-04-28T09:59:28.885795",
     "exception": false,
     "start_time": "2024-04-28T09:59:28.875373",
     "status": "completed"
    },
    "tags": []
   },
   "outputs": [],
   "source": [
    "train_df = '/kaggle/input/train-full/train_full.csv'"
   ]
  },
  {
   "cell_type": "code",
   "execution_count": 4,
   "id": "04db4cac",
   "metadata": {
    "execution": {
     "iopub.execute_input": "2024-04-28T09:59:28.894758Z",
     "iopub.status.busy": "2024-04-28T09:59:28.894124Z",
     "iopub.status.idle": "2024-04-28T09:59:28.901164Z",
     "shell.execute_reply": "2024-04-28T09:59:28.900170Z"
    },
    "papermill": {
     "duration": 0.013857,
     "end_time": "2024-04-28T09:59:28.903330",
     "exception": false,
     "start_time": "2024-04-28T09:59:28.889473",
     "status": "completed"
    },
    "tags": []
   },
   "outputs": [],
   "source": [
    "class CustomImageDataset(Dataset):\n",
    "    def __init__(self, csv_file, root_dir, transform):\n",
    "        self.annotations = pd.read_csv(csv_file)\n",
    "        self.root_dir = root_dir\n",
    "        self.transform = transform\n",
    "\n",
    "    def __len__(self):\n",
    "        return len(self.annotations)\n",
    "\n",
    "    def __getitem__(self, index):\n",
    "        img_id = self.annotations.iloc[index, 1]\n",
    "        img_name = os.path.join(self.root_dir, f\"{img_id}\")\n",
    "        image = Image.open(img_name).convert('RGB')\n",
    "        label = int(self.annotations.iloc[index, 0][-1])  # Extract class number\n",
    "\n",
    "        if self.transform:\n",
    "            image = self.transform(image)\n",
    "\n",
    "        return image, label"
   ]
  },
  {
   "cell_type": "code",
   "execution_count": 5,
   "id": "8d2fba3f",
   "metadata": {
    "execution": {
     "iopub.execute_input": "2024-04-28T09:59:28.911836Z",
     "iopub.status.busy": "2024-04-28T09:59:28.911556Z",
     "iopub.status.idle": "2024-04-28T09:59:28.918038Z",
     "shell.execute_reply": "2024-04-28T09:59:28.917205Z"
    },
    "papermill": {
     "duration": 0.012968,
     "end_time": "2024-04-28T09:59:28.919943",
     "exception": false,
     "start_time": "2024-04-28T09:59:28.906975",
     "status": "completed"
    },
    "tags": []
   },
   "outputs": [],
   "source": [
    "transform = transforms.Compose([\n",
    "    transforms.Resize((256, 256)),  \n",
    "    transforms.ColorJitter(\n",
    "        brightness=(0.75, 1.25), \n",
    "        contrast=(0.75, 1.25),    \n",
    "        saturation=(0.5, 1.5),   \n",
    "        hue=(-0.05, 0.05)\n",
    "    ),\n",
    "    transforms.RandomAffine(\n",
    "        degrees=(-5, 5),\n",
    "        translate=None,\n",
    "        scale=None,\n",
    "        shear=(-5, 5)\n",
    "    ),\n",
    "    transforms.RandomPerspective(\n",
    "        distortion_scale=0.15,\n",
    "        p=0.5,\n",
    "        fill=0\n",
    "    ),\n",
    "    transforms.ToTensor(),\n",
    "    transforms.Normalize(mean=[0.485, 0.456, 0.406], std=[0.229, 0.224, 0.225])  # Normalize images\n",
    "])"
   ]
  },
  {
   "cell_type": "code",
   "execution_count": 6,
   "id": "505cb505",
   "metadata": {
    "execution": {
     "iopub.execute_input": "2024-04-28T09:59:28.928156Z",
     "iopub.status.busy": "2024-04-28T09:59:28.927920Z",
     "iopub.status.idle": "2024-04-28T09:59:28.934523Z",
     "shell.execute_reply": "2024-04-28T09:59:28.933727Z"
    },
    "papermill": {
     "duration": 0.012777,
     "end_time": "2024-04-28T09:59:28.936495",
     "exception": false,
     "start_time": "2024-04-28T09:59:28.923718",
     "status": "completed"
    },
    "tags": []
   },
   "outputs": [],
   "source": [
    "class SingleFolderDataset(Dataset):\n",
    "    def __init__(self, directory, transform):\n",
    "        self.directory = directory\n",
    "        self.transform = transform\n",
    "        self.image_filenames = [f for f in os.listdir(directory) if os.path.isfile(os.path.join(directory, f))]\n",
    "\n",
    "    def __len__(self):\n",
    "        return len(self.image_filenames)\n",
    "\n",
    "    def __getitem__(self, idx):\n",
    "        image_name = self.image_filenames[idx]\n",
    "        image_path = os.path.join(self.directory, image_name)\n",
    "        image = Image.open(image_path).convert('RGB')\n",
    "        if self.transform:\n",
    "            image = self.transform(image)\n",
    "        return image, image_name"
   ]
  },
  {
   "cell_type": "code",
   "execution_count": 7,
   "id": "9712c1ef",
   "metadata": {
    "execution": {
     "iopub.execute_input": "2024-04-28T09:59:28.945253Z",
     "iopub.status.busy": "2024-04-28T09:59:28.944954Z",
     "iopub.status.idle": "2024-04-28T09:59:28.951476Z",
     "shell.execute_reply": "2024-04-28T09:59:28.950518Z"
    },
    "papermill": {
     "duration": 0.01311,
     "end_time": "2024-04-28T09:59:28.953529",
     "exception": false,
     "start_time": "2024-04-28T09:59:28.940419",
     "status": "completed"
    },
    "tags": []
   },
   "outputs": [],
   "source": [
    "def make_predictions_sigmoid(data_loader):\n",
    "    model.eval()\n",
    "    y_pred = []\n",
    "    file_names = []\n",
    "    with torch.no_grad():\n",
    "        for inputs, paths in (data_loader):\n",
    "            inputs = inputs.to(device)\n",
    "            outputs = model(inputs)\n",
    "            probabilities = torch.nn.functional.softmax(outputs, dim=1)\n",
    "            y_pred.extend(probabilities.cpu().numpy())\n",
    "            file_names.extend([os.path.basename(path) for path in paths])\n",
    "            \n",
    "    return file_names, y_pred"
   ]
  },
  {
   "cell_type": "code",
   "execution_count": 8,
   "id": "d6c23ccf",
   "metadata": {
    "execution": {
     "iopub.execute_input": "2024-04-28T09:59:28.962650Z",
     "iopub.status.busy": "2024-04-28T09:59:28.962124Z",
     "iopub.status.idle": "2024-04-28T13:41:04.836906Z",
     "shell.execute_reply": "2024-04-28T13:41:04.835749Z"
    },
    "papermill": {
     "duration": 13295.890501,
     "end_time": "2024-04-28T13:41:04.847751",
     "exception": false,
     "start_time": "2024-04-28T09:59:28.957250",
     "status": "completed"
    },
    "tags": []
   },
   "outputs": [
    {
     "name": "stderr",
     "output_type": "stream",
     "text": [
      "Downloading: \"https://download.pytorch.org/models/efficientnet_v2_l-59c71312.pth\" to /root/.cache/torch/hub/checkpoints/efficientnet_v2_l-59c71312.pth\n",
      "100%|██████████| 455M/455M [00:03<00:00, 154MB/s]\n"
     ]
    },
    {
     "name": "stdout",
     "output_type": "stream",
     "text": [
      "model load_compelete\n",
      "Epoch 1, Loss: 0.47214765153867133\n",
      "Finished Training\n",
      "model load_compelete\n",
      "Epoch 1, Loss: 0.4858107137096549\n",
      "Finished Training\n",
      "model load_compelete\n",
      "Epoch 1, Loss: 0.47401932929177504\n",
      "Finished Training\n",
      "model load_compelete\n",
      "Epoch 1, Loss: 0.4558287204316978\n",
      "Finished Training\n",
      "model load_compelete\n",
      "Epoch 1, Loss: 0.46851719739632985\n",
      "Finished Training\n",
      "model load_compelete\n",
      "Epoch 1, Loss: 0.4717874714500867\n",
      "Finished Training\n",
      "model load_compelete\n",
      "Epoch 1, Loss: 0.4755005114170432\n",
      "Finished Training\n",
      "model load_compelete\n",
      "Epoch 1, Loss: 0.46205078539044625\n",
      "Finished Training\n",
      "model load_compelete\n",
      "Epoch 1, Loss: 0.4675679472758343\n",
      "Finished Training\n",
      "model load_compelete\n",
      "Epoch 1, Loss: 0.4653800617584284\n",
      "Finished Training\n"
     ]
    }
   ],
   "source": [
    "for trail in range(0, 10):\n",
    "    train_dataset = CustomImageDataset(train_df, image_dir, transform=transform)\n",
    "    train_loader = DataLoader(train_dataset, batch_size=16, shuffle=True, num_workers=4)\n",
    "    \n",
    "    model = models.efficientnet_v2_l(weights = models.EfficientNet_V2_L_Weights.IMAGENET1K_V1)\n",
    "    \n",
    "    cutoff_reached = False\n",
    "    for name, param in model.named_parameters():\n",
    "        if not cutoff_reached:\n",
    "            if name == \"features.2.6.block.1.1.bias\":\n",
    "                cutoff_reached = True\n",
    "            param.requires_grad = False\n",
    "        else:\n",
    "            param.requires_grad = True\n",
    "\n",
    "    num_ftrs = model.classifier[1].in_features\n",
    "    model.classifier = nn.Sequential(\n",
    "        nn.Linear(num_ftrs, 1344),\n",
    "        nn.ReLU(),\n",
    "        nn.Dropout(0.55),\n",
    "        nn.Linear(1344, 10),\n",
    "    )\n",
    "    \n",
    "    device = torch.device(\"cuda\" if torch.cuda.is_available() else \"cpu\")\n",
    "    model.to(device)\n",
    "    \n",
    "    print(\"model load_compelete\")\n",
    "    \n",
    "    criterion = nn.CrossEntropyLoss()\n",
    "    optimizer = optim.Adam(model.parameters(), lr=2.4017967647941986e-05)\n",
    "    \n",
    "    dataset = SingleFolderDataset(directory='/kaggle/input/state-farm-distracted-driver-detection/imgs/test', transform=transform)\n",
    "    test_loader = DataLoader(dataset, batch_size=16, shuffle=False, num_workers=4)\n",
    "\n",
    "    def train_model(model, criterion, optimizer, num_epochs, trail):\n",
    "        for epoch in range(num_epochs):\n",
    "            model.train()\n",
    "            running_loss = 0.0\n",
    "            for inputs, labels in (train_loader):\n",
    "                inputs, labels = inputs.to(device), labels.to(device)\n",
    "                optimizer.zero_grad()\n",
    "                outputs = model(inputs)\n",
    "                loss = criterion(outputs, labels)\n",
    "                loss.backward()\n",
    "                optimizer.step()\n",
    "                running_loss += loss.item()\n",
    "            print(f'Epoch {epoch+1}, Loss: {running_loss/len(train_loader)}')\n",
    "\n",
    "            file_names, preds = make_predictions_sigmoid(test_loader)\n",
    "            submission_df = pd.DataFrame(preds, columns=[f'c{i}' for i in range(10)])\n",
    "            submission_df.insert(0, 'img', file_names)\n",
    "            submission = \"submission\" + str(trail) + str(epoch) + \".csv\"\n",
    "            submission_df.to_csv(submission, index=False)       \n",
    "\n",
    "        print('Finished Training')\n",
    "    \n",
    "    train_model(model, criterion, optimizer, 1, trail)\n",
    "    "
   ]
  },
  {
   "cell_type": "code",
   "execution_count": null,
   "id": "9662d6d9",
   "metadata": {
    "papermill": {
     "duration": 0.008262,
     "end_time": "2024-04-28T13:41:04.864439",
     "exception": false,
     "start_time": "2024-04-28T13:41:04.856177",
     "status": "completed"
    },
    "tags": []
   },
   "outputs": [],
   "source": []
  },
  {
   "cell_type": "code",
   "execution_count": null,
   "id": "e8a06a05",
   "metadata": {
    "papermill": {
     "duration": 0.008189,
     "end_time": "2024-04-28T13:41:04.881113",
     "exception": false,
     "start_time": "2024-04-28T13:41:04.872924",
     "status": "completed"
    },
    "tags": []
   },
   "outputs": [],
   "source": []
  },
  {
   "cell_type": "code",
   "execution_count": null,
   "id": "7678b5f5",
   "metadata": {
    "papermill": {
     "duration": 0.008768,
     "end_time": "2024-04-28T13:41:04.898258",
     "exception": false,
     "start_time": "2024-04-28T13:41:04.889490",
     "status": "completed"
    },
    "tags": []
   },
   "outputs": [],
   "source": []
  }
 ],
 "metadata": {
  "kaggle": {
   "accelerator": "gpu",
   "dataSources": [
    {
     "databundleVersionId": 868335,
     "sourceId": 5048,
     "sourceType": "competition"
    },
    {
     "datasetId": 4499671,
     "sourceId": 7706955,
     "sourceType": "datasetVersion"
    },
    {
     "datasetId": 4557739,
     "sourceId": 7786938,
     "sourceType": "datasetVersion"
    }
   ],
   "dockerImageVersionId": 30665,
   "isGpuEnabled": true,
   "isInternetEnabled": true,
   "language": "python",
   "sourceType": "notebook"
  },
  "kernelspec": {
   "display_name": "Python 3",
   "language": "python",
   "name": "python3"
  },
  "language_info": {
   "codemirror_mode": {
    "name": "ipython",
    "version": 3
   },
   "file_extension": ".py",
   "mimetype": "text/x-python",
   "name": "python",
   "nbconvert_exporter": "python",
   "pygments_lexer": "ipython3",
   "version": "3.10.13"
  },
  "papermill": {
   "default_parameters": {},
   "duration": 13311.314514,
   "end_time": "2024-04-28T13:41:06.956389",
   "environment_variables": {},
   "exception": null,
   "input_path": "__notebook__.ipynb",
   "output_path": "__notebook__.ipynb",
   "parameters": {},
   "start_time": "2024-04-28T09:59:15.641875",
   "version": "2.5.0"
  }
 },
 "nbformat": 4,
 "nbformat_minor": 5
}
