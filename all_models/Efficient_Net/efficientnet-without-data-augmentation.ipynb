{
 "cells": [
  {
   "cell_type": "code",
   "execution_count": 1,
   "id": "fd4b1166",
   "metadata": {
    "_cell_guid": "b1076dfc-b9ad-4769-8c92-a6c4dae69d19",
    "_uuid": "8f2839f25d086af736a60e9eeb907d3b93b6e0e5",
    "execution": {
     "iopub.execute_input": "2024-04-28T09:59:45.553362Z",
     "iopub.status.busy": "2024-04-28T09:59:45.552687Z",
     "iopub.status.idle": "2024-04-28T09:59:55.177376Z",
     "shell.execute_reply": "2024-04-28T09:59:55.176391Z"
    },
    "papermill": {
     "duration": 9.633219,
     "end_time": "2024-04-28T09:59:55.179803",
     "exception": false,
     "start_time": "2024-04-28T09:59:45.546584",
     "status": "completed"
    },
    "tags": []
   },
   "outputs": [],
   "source": [
    "from PIL import Image\n",
    "import torch\n",
    "import os\n",
    "import cv2\n",
    "from tqdm import tqdm\n",
    "import copy\n",
    "import torch.optim as optim\n",
    "import numpy as np\n",
    "import optuna\n",
    "from sklearn.metrics import f1_score\n",
    "from optuna.exceptions import TrialPruned\n",
    "import random\n",
    "import torch.nn as nn\n",
    "from torchvision import datasets, models, transforms\n",
    "from torch.utils.data import DataLoader, Dataset\n",
    "import pandas as pd\n",
    "from skimage import io"
   ]
  },
  {
   "cell_type": "code",
   "execution_count": 2,
   "id": "944ee7ff",
   "metadata": {
    "execution": {
     "iopub.execute_input": "2024-04-28T09:59:55.189147Z",
     "iopub.status.busy": "2024-04-28T09:59:55.188701Z",
     "iopub.status.idle": "2024-04-28T09:59:55.193047Z",
     "shell.execute_reply": "2024-04-28T09:59:55.192188Z"
    },
    "papermill": {
     "duration": 0.010843,
     "end_time": "2024-04-28T09:59:55.194858",
     "exception": false,
     "start_time": "2024-04-28T09:59:55.184015",
     "status": "completed"
    },
    "tags": []
   },
   "outputs": [],
   "source": [
    "working_folder = os.path.abspath(\"\")\n",
    "image_dir = os.path.join(working_folder, \"/kaggle/input/all-images/data_all\")"
   ]
  },
  {
   "cell_type": "code",
   "execution_count": 3,
   "id": "6af98d47",
   "metadata": {
    "execution": {
     "iopub.execute_input": "2024-04-28T09:59:55.203089Z",
     "iopub.status.busy": "2024-04-28T09:59:55.202846Z",
     "iopub.status.idle": "2024-04-28T09:59:55.206558Z",
     "shell.execute_reply": "2024-04-28T09:59:55.205722Z"
    },
    "papermill": {
     "duration": 0.009949,
     "end_time": "2024-04-28T09:59:55.208436",
     "exception": false,
     "start_time": "2024-04-28T09:59:55.198487",
     "status": "completed"
    },
    "tags": []
   },
   "outputs": [],
   "source": [
    "train_df = '/kaggle/input/train-full/train_full.csv'"
   ]
  },
  {
   "cell_type": "code",
   "execution_count": 4,
   "id": "54fac704",
   "metadata": {
    "execution": {
     "iopub.execute_input": "2024-04-28T09:59:55.216835Z",
     "iopub.status.busy": "2024-04-28T09:59:55.216571Z",
     "iopub.status.idle": "2024-04-28T09:59:55.223586Z",
     "shell.execute_reply": "2024-04-28T09:59:55.222850Z"
    },
    "papermill": {
     "duration": 0.013446,
     "end_time": "2024-04-28T09:59:55.225475",
     "exception": false,
     "start_time": "2024-04-28T09:59:55.212029",
     "status": "completed"
    },
    "tags": []
   },
   "outputs": [],
   "source": [
    "class CustomImageDataset(Dataset):\n",
    "    def __init__(self, csv_file, root_dir, transform):\n",
    "        self.annotations = pd.read_csv(csv_file)\n",
    "        self.root_dir = root_dir\n",
    "        self.transform = transform\n",
    "\n",
    "    def __len__(self):\n",
    "        return len(self.annotations)\n",
    "\n",
    "    def __getitem__(self, index):\n",
    "        img_id = self.annotations.iloc[index, 1]\n",
    "        img_name = os.path.join(self.root_dir, f\"{img_id}\")\n",
    "        image = Image.open(img_name).convert('RGB')\n",
    "        label = int(self.annotations.iloc[index, 0][-1])  # Extract class number\n",
    "\n",
    "        if self.transform:\n",
    "            image = self.transform(image)\n",
    "\n",
    "        return image, label"
   ]
  },
  {
   "cell_type": "code",
   "execution_count": 5,
   "id": "dfb5c306",
   "metadata": {
    "execution": {
     "iopub.execute_input": "2024-04-28T09:59:55.233996Z",
     "iopub.status.busy": "2024-04-28T09:59:55.233360Z",
     "iopub.status.idle": "2024-04-28T09:59:55.238112Z",
     "shell.execute_reply": "2024-04-28T09:59:55.237348Z"
    },
    "papermill": {
     "duration": 0.010916,
     "end_time": "2024-04-28T09:59:55.239945",
     "exception": false,
     "start_time": "2024-04-28T09:59:55.229029",
     "status": "completed"
    },
    "tags": []
   },
   "outputs": [],
   "source": [
    "transform = transforms.Compose([\n",
    "    transforms.Resize((256, 256)),\n",
    "    transforms.ToTensor(),\n",
    "    transforms.Normalize(mean=[0.485, 0.456, 0.406], std=[0.229, 0.224, 0.225]),\n",
    "])"
   ]
  },
  {
   "cell_type": "code",
   "execution_count": 6,
   "id": "1f56b488",
   "metadata": {
    "execution": {
     "iopub.execute_input": "2024-04-28T09:59:55.248487Z",
     "iopub.status.busy": "2024-04-28T09:59:55.247934Z",
     "iopub.status.idle": "2024-04-28T09:59:55.254302Z",
     "shell.execute_reply": "2024-04-28T09:59:55.253502Z"
    },
    "papermill": {
     "duration": 0.012588,
     "end_time": "2024-04-28T09:59:55.256235",
     "exception": false,
     "start_time": "2024-04-28T09:59:55.243647",
     "status": "completed"
    },
    "tags": []
   },
   "outputs": [],
   "source": [
    "class SingleFolderDataset(Dataset):\n",
    "    def __init__(self, directory, transform):\n",
    "        self.directory = directory\n",
    "        self.transform = transform\n",
    "        self.image_filenames = [f for f in os.listdir(directory) if os.path.isfile(os.path.join(directory, f))]\n",
    "\n",
    "    def __len__(self):\n",
    "        return len(self.image_filenames)\n",
    "\n",
    "    def __getitem__(self, idx):\n",
    "        image_name = self.image_filenames[idx]\n",
    "        image_path = os.path.join(self.directory, image_name)\n",
    "        image = Image.open(image_path).convert('RGB')\n",
    "        if self.transform:\n",
    "            image = self.transform(image)\n",
    "        return image, image_name"
   ]
  },
  {
   "cell_type": "code",
   "execution_count": 7,
   "id": "7d79c930",
   "metadata": {
    "execution": {
     "iopub.execute_input": "2024-04-28T09:59:55.264901Z",
     "iopub.status.busy": "2024-04-28T09:59:55.264430Z",
     "iopub.status.idle": "2024-04-28T09:59:55.270359Z",
     "shell.execute_reply": "2024-04-28T09:59:55.269534Z"
    },
    "papermill": {
     "duration": 0.012478,
     "end_time": "2024-04-28T09:59:55.272312",
     "exception": false,
     "start_time": "2024-04-28T09:59:55.259834",
     "status": "completed"
    },
    "tags": []
   },
   "outputs": [],
   "source": [
    "def make_predictions_sigmoid(data_loader):\n",
    "    model.eval()\n",
    "    y_pred = []\n",
    "    file_names = []\n",
    "    with torch.no_grad():\n",
    "        for inputs, paths in (data_loader):\n",
    "            inputs = inputs.to(device)\n",
    "            outputs = model(inputs)\n",
    "            probabilities = torch.nn.functional.softmax(outputs, dim=1)\n",
    "            y_pred.extend(probabilities.cpu().numpy())\n",
    "            file_names.extend([os.path.basename(path) for path in paths])\n",
    "            \n",
    "    return file_names, y_pred"
   ]
  },
  {
   "cell_type": "code",
   "execution_count": 8,
   "id": "6ae39354",
   "metadata": {
    "execution": {
     "iopub.execute_input": "2024-04-28T09:59:55.280639Z",
     "iopub.status.busy": "2024-04-28T09:59:55.280390Z",
     "iopub.status.idle": "2024-04-28T13:43:53.829750Z",
     "shell.execute_reply": "2024-04-28T13:43:53.828698Z"
    },
    "papermill": {
     "duration": 13438.564347,
     "end_time": "2024-04-28T13:43:53.840345",
     "exception": false,
     "start_time": "2024-04-28T09:59:55.275998",
     "status": "completed"
    },
    "tags": []
   },
   "outputs": [
    {
     "name": "stderr",
     "output_type": "stream",
     "text": [
      "Downloading: \"https://download.pytorch.org/models/efficientnet_v2_l-59c71312.pth\" to /root/.cache/torch/hub/checkpoints/efficientnet_v2_l-59c71312.pth\n",
      "100%|██████████| 455M/455M [00:02<00:00, 180MB/s]\n"
     ]
    },
    {
     "name": "stdout",
     "output_type": "stream",
     "text": [
      "model load_compelete\n",
      "Epoch 1, Loss: 0.3838671591236175\n",
      "Finished Training\n",
      "model load_compelete\n",
      "Epoch 1, Loss: 0.4076405740658568\n",
      "Finished Training\n",
      "model load_compelete\n",
      "Epoch 1, Loss: 0.39700911997019656\n",
      "Finished Training\n",
      "model load_compelete\n",
      "Epoch 1, Loss: 0.39119720355389687\n",
      "Finished Training\n",
      "model load_compelete\n",
      "Epoch 1, Loss: 0.40651260113898935\n",
      "Finished Training\n",
      "model load_compelete\n",
      "Epoch 1, Loss: 0.402847204379556\n",
      "Finished Training\n",
      "model load_compelete\n",
      "Epoch 1, Loss: 0.40371421216449005\n",
      "Finished Training\n",
      "model load_compelete\n",
      "Epoch 1, Loss: 0.40008888252679997\n",
      "Finished Training\n",
      "model load_compelete\n",
      "Epoch 1, Loss: 0.39285998248074006\n",
      "Finished Training\n",
      "model load_compelete\n",
      "Epoch 1, Loss: 0.3986159513761607\n",
      "Finished Training\n"
     ]
    }
   ],
   "source": [
    "for trail in range(0, 10):\n",
    "    train_dataset = CustomImageDataset(train_df, image_dir, transform=transform)\n",
    "    train_loader = DataLoader(train_dataset, batch_size=16, shuffle=True, num_workers=4)\n",
    "    \n",
    "    model = models.efficientnet_v2_l(weights = models.EfficientNet_V2_L_Weights.IMAGENET1K_V1)\n",
    "    \n",
    "    cutoff_reached = False\n",
    "    for name, param in model.named_parameters():\n",
    "        if not cutoff_reached:\n",
    "            if name == \"features.2.6.block.1.1.bias\":\n",
    "                cutoff_reached = True\n",
    "            param.requires_grad = False\n",
    "        else:\n",
    "            param.requires_grad = True\n",
    "\n",
    "    num_ftrs = model.classifier[1].in_features\n",
    "    model.classifier = nn.Sequential(\n",
    "        nn.Linear(num_ftrs, 1344),\n",
    "        nn.ReLU(),\n",
    "        nn.Dropout(0.55),\n",
    "        nn.Linear(1344, 10),\n",
    "    )\n",
    "    \n",
    "    device = torch.device(\"cuda\" if torch.cuda.is_available() else \"cpu\")\n",
    "    model.to(device)\n",
    "    \n",
    "    print(\"model load_compelete\")\n",
    "    \n",
    "    criterion = nn.CrossEntropyLoss()\n",
    "    optimizer = optim.Adam(model.parameters(), lr=2.4017967647941986e-05)\n",
    "    \n",
    "    dataset = SingleFolderDataset(directory='/kaggle/input/state-farm-distracted-driver-detection/imgs/test', transform=transform)\n",
    "    test_loader = DataLoader(dataset, batch_size=16, shuffle=False, num_workers=4)\n",
    "\n",
    "    def train_model(model, criterion, optimizer, num_epochs, trail):\n",
    "        for epoch in range(num_epochs):\n",
    "            model.train()\n",
    "            running_loss = 0.0\n",
    "            for inputs, labels in (train_loader):\n",
    "                inputs, labels = inputs.to(device), labels.to(device)\n",
    "                optimizer.zero_grad()\n",
    "                outputs = model(inputs)\n",
    "                loss = criterion(outputs, labels)\n",
    "                loss.backward()\n",
    "                optimizer.step()\n",
    "                running_loss += loss.item()\n",
    "            print(f'Epoch {epoch+1}, Loss: {running_loss/len(train_loader)}')\n",
    "\n",
    "            file_names, preds = make_predictions_sigmoid(test_loader)\n",
    "            submission_df = pd.DataFrame(preds, columns=[f'c{i}' for i in range(10)])\n",
    "            submission_df.insert(0, 'img', file_names)\n",
    "            submission = \"submission\" + str(trail) + str(epoch) + \".csv\"\n",
    "            submission_df.to_csv(submission, index=False)       \n",
    "\n",
    "        print('Finished Training')\n",
    "    \n",
    "    train_model(model, criterion, optimizer, 1, trail)\n",
    "    "
   ]
  },
  {
   "cell_type": "code",
   "execution_count": null,
   "id": "80735417",
   "metadata": {
    "papermill": {
     "duration": 0.008078,
     "end_time": "2024-04-28T13:43:53.856749",
     "exception": false,
     "start_time": "2024-04-28T13:43:53.848671",
     "status": "completed"
    },
    "tags": []
   },
   "outputs": [],
   "source": []
  },
  {
   "cell_type": "code",
   "execution_count": null,
   "id": "e90f3b4c",
   "metadata": {
    "papermill": {
     "duration": 0.007983,
     "end_time": "2024-04-28T13:43:53.873049",
     "exception": false,
     "start_time": "2024-04-28T13:43:53.865066",
     "status": "completed"
    },
    "tags": []
   },
   "outputs": [],
   "source": []
  },
  {
   "cell_type": "code",
   "execution_count": null,
   "id": "a1d3cbb2",
   "metadata": {
    "papermill": {
     "duration": 0.00797,
     "end_time": "2024-04-28T13:43:53.889242",
     "exception": false,
     "start_time": "2024-04-28T13:43:53.881272",
     "status": "completed"
    },
    "tags": []
   },
   "outputs": [],
   "source": []
  }
 ],
 "metadata": {
  "kaggle": {
   "accelerator": "gpu",
   "dataSources": [
    {
     "databundleVersionId": 868335,
     "sourceId": 5048,
     "sourceType": "competition"
    },
    {
     "datasetId": 4499671,
     "sourceId": 7706955,
     "sourceType": "datasetVersion"
    },
    {
     "datasetId": 4557739,
     "sourceId": 7786938,
     "sourceType": "datasetVersion"
    }
   ],
   "dockerImageVersionId": 30665,
   "isGpuEnabled": true,
   "isInternetEnabled": true,
   "language": "python",
   "sourceType": "notebook"
  },
  "kernelspec": {
   "display_name": "Python 3",
   "language": "python",
   "name": "python3"
  },
  "language_info": {
   "codemirror_mode": {
    "name": "ipython",
    "version": 3
   },
   "file_extension": ".py",
   "mimetype": "text/x-python",
   "name": "python",
   "nbconvert_exporter": "python",
   "pygments_lexer": "ipython3",
   "version": "3.10.13"
  },
  "papermill": {
   "default_parameters": {},
   "duration": 13453.95586,
   "end_time": "2024-04-28T13:43:56.769441",
   "environment_variables": {},
   "exception": null,
   "input_path": "__notebook__.ipynb",
   "output_path": "__notebook__.ipynb",
   "parameters": {},
   "start_time": "2024-04-28T09:59:42.813581",
   "version": "2.5.0"
  }
 },
 "nbformat": 4,
 "nbformat_minor": 5
}
