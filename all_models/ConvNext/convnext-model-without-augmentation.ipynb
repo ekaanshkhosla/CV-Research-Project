{
 "cells": [
  {
   "cell_type": "code",
   "execution_count": 1,
   "id": "8d3700f2",
   "metadata": {
    "_cell_guid": "b1076dfc-b9ad-4769-8c92-a6c4dae69d19",
    "_uuid": "8f2839f25d086af736a60e9eeb907d3b93b6e0e5",
    "execution": {
     "iopub.execute_input": "2024-04-20T22:55:36.306663Z",
     "iopub.status.busy": "2024-04-20T22:55:36.305760Z",
     "iopub.status.idle": "2024-04-20T22:55:45.037046Z",
     "shell.execute_reply": "2024-04-20T22:55:45.036241Z"
    },
    "papermill": {
     "duration": 8.73927,
     "end_time": "2024-04-20T22:55:45.039491",
     "exception": false,
     "start_time": "2024-04-20T22:55:36.300221",
     "status": "completed"
    },
    "tags": []
   },
   "outputs": [],
   "source": [
    "from PIL import Image\n",
    "import torch\n",
    "import os\n",
    "import cv2\n",
    "from tqdm import tqdm\n",
    "import copy\n",
    "import torch.optim as optim\n",
    "import numpy as np\n",
    "import optuna\n",
    "from sklearn.metrics import f1_score\n",
    "from optuna.exceptions import TrialPruned\n",
    "import random\n",
    "import torch.nn as nn\n",
    "from torchvision import datasets, models, transforms\n",
    "from torch.utils.data import DataLoader, Dataset\n",
    "import pandas as pd\n",
    "from skimage import io"
   ]
  },
  {
   "cell_type": "code",
   "execution_count": 2,
   "id": "47adaf66",
   "metadata": {
    "execution": {
     "iopub.execute_input": "2024-04-20T22:55:45.048905Z",
     "iopub.status.busy": "2024-04-20T22:55:45.048246Z",
     "iopub.status.idle": "2024-04-20T22:55:45.053415Z",
     "shell.execute_reply": "2024-04-20T22:55:45.052620Z"
    },
    "papermill": {
     "duration": 0.011847,
     "end_time": "2024-04-20T22:55:45.055276",
     "exception": false,
     "start_time": "2024-04-20T22:55:45.043429",
     "status": "completed"
    },
    "tags": []
   },
   "outputs": [],
   "source": [
    "working_folder = os.path.abspath(\"\")\n",
    "image_dir = os.path.join(working_folder, \"/kaggle/input/all-images/data_all\")"
   ]
  },
  {
   "cell_type": "code",
   "execution_count": 3,
   "id": "4dd017d4",
   "metadata": {
    "execution": {
     "iopub.execute_input": "2024-04-20T22:55:45.063282Z",
     "iopub.status.busy": "2024-04-20T22:55:45.062998Z",
     "iopub.status.idle": "2024-04-20T22:55:45.066742Z",
     "shell.execute_reply": "2024-04-20T22:55:45.065988Z"
    },
    "papermill": {
     "duration": 0.00973,
     "end_time": "2024-04-20T22:55:45.068576",
     "exception": false,
     "start_time": "2024-04-20T22:55:45.058846",
     "status": "completed"
    },
    "tags": []
   },
   "outputs": [],
   "source": [
    "train_df = '/kaggle/input/train-full/train_full.csv'"
   ]
  },
  {
   "cell_type": "code",
   "execution_count": 4,
   "id": "4bf64908",
   "metadata": {
    "execution": {
     "iopub.execute_input": "2024-04-20T22:55:45.076725Z",
     "iopub.status.busy": "2024-04-20T22:55:45.076010Z",
     "iopub.status.idle": "2024-04-20T22:55:45.083028Z",
     "shell.execute_reply": "2024-04-20T22:55:45.082233Z"
    },
    "papermill": {
     "duration": 0.012879,
     "end_time": "2024-04-20T22:55:45.084871",
     "exception": false,
     "start_time": "2024-04-20T22:55:45.071992",
     "status": "completed"
    },
    "tags": []
   },
   "outputs": [],
   "source": [
    "class CustomImageDataset(Dataset):\n",
    "    def __init__(self, csv_file, root_dir, transform):\n",
    "        self.annotations = pd.read_csv(csv_file)\n",
    "        self.root_dir = root_dir\n",
    "        self.transform = transform\n",
    "\n",
    "    def __len__(self):\n",
    "        return len(self.annotations)\n",
    "\n",
    "    def __getitem__(self, index):\n",
    "        img_id = self.annotations.iloc[index, 1]\n",
    "        img_name = os.path.join(self.root_dir, f\"{img_id}\")\n",
    "        image = Image.open(img_name).convert('RGB')\n",
    "        label = int(self.annotations.iloc[index, 0][-1])  # Extract class number\n",
    "\n",
    "        if self.transform:\n",
    "            image = self.transform(image)\n",
    "\n",
    "        return image, label"
   ]
  },
  {
   "cell_type": "code",
   "execution_count": 5,
   "id": "267a08e0",
   "metadata": {
    "execution": {
     "iopub.execute_input": "2024-04-20T22:55:45.092907Z",
     "iopub.status.busy": "2024-04-20T22:55:45.092471Z",
     "iopub.status.idle": "2024-04-20T22:55:45.097020Z",
     "shell.execute_reply": "2024-04-20T22:55:45.096220Z"
    },
    "papermill": {
     "duration": 0.010511,
     "end_time": "2024-04-20T22:55:45.098791",
     "exception": false,
     "start_time": "2024-04-20T22:55:45.088280",
     "status": "completed"
    },
    "tags": []
   },
   "outputs": [],
   "source": [
    "transform = transforms.Compose([\n",
    "    transforms.Resize((256, 256)),\n",
    "    transforms.ToTensor(),\n",
    "    transforms.Normalize(mean=[0.485, 0.456, 0.406], std=[0.229, 0.224, 0.225]),\n",
    "])"
   ]
  },
  {
   "cell_type": "code",
   "execution_count": 6,
   "id": "5f7e7952",
   "metadata": {
    "execution": {
     "iopub.execute_input": "2024-04-20T22:55:45.106843Z",
     "iopub.status.busy": "2024-04-20T22:55:45.106334Z",
     "iopub.status.idle": "2024-04-20T22:55:45.112608Z",
     "shell.execute_reply": "2024-04-20T22:55:45.111817Z"
    },
    "papermill": {
     "duration": 0.012083,
     "end_time": "2024-04-20T22:55:45.114390",
     "exception": false,
     "start_time": "2024-04-20T22:55:45.102307",
     "status": "completed"
    },
    "tags": []
   },
   "outputs": [],
   "source": [
    "class SingleFolderDataset(Dataset):\n",
    "    def __init__(self, directory, transform):\n",
    "        self.directory = directory\n",
    "        self.transform = transform\n",
    "        self.image_filenames = [f for f in os.listdir(directory) if os.path.isfile(os.path.join(directory, f))]\n",
    "\n",
    "    def __len__(self):\n",
    "        return len(self.image_filenames)\n",
    "\n",
    "    def __getitem__(self, idx):\n",
    "        image_name = self.image_filenames[idx]\n",
    "        image_path = os.path.join(self.directory, image_name)\n",
    "        image = Image.open(image_path).convert('RGB')\n",
    "        if self.transform:\n",
    "            image = self.transform(image)\n",
    "        return image, image_name"
   ]
  },
  {
   "cell_type": "code",
   "execution_count": 7,
   "id": "839f4eb9",
   "metadata": {
    "execution": {
     "iopub.execute_input": "2024-04-20T22:55:45.122153Z",
     "iopub.status.busy": "2024-04-20T22:55:45.121687Z",
     "iopub.status.idle": "2024-04-20T22:55:45.127449Z",
     "shell.execute_reply": "2024-04-20T22:55:45.126649Z"
    },
    "papermill": {
     "duration": 0.011654,
     "end_time": "2024-04-20T22:55:45.129366",
     "exception": false,
     "start_time": "2024-04-20T22:55:45.117712",
     "status": "completed"
    },
    "tags": []
   },
   "outputs": [],
   "source": [
    "def make_predictions_sigmoid(data_loader):\n",
    "    model.eval()\n",
    "    y_pred = []\n",
    "    file_names = []\n",
    "    with torch.no_grad():\n",
    "        for inputs, paths in (data_loader):\n",
    "            inputs = inputs.to(device)\n",
    "            outputs = model(inputs)\n",
    "            probabilities = torch.nn.functional.softmax(outputs, dim=1)\n",
    "            y_pred.extend(probabilities.cpu().numpy())\n",
    "            file_names.extend([os.path.basename(path) for path in paths])\n",
    "            \n",
    "    return file_names, y_pred"
   ]
  },
  {
   "cell_type": "code",
   "execution_count": 8,
   "id": "6925a459",
   "metadata": {
    "execution": {
     "iopub.execute_input": "2024-04-20T22:55:45.137283Z",
     "iopub.status.busy": "2024-04-20T22:55:45.137008Z",
     "iopub.status.idle": "2024-04-21T08:52:09.525237Z",
     "shell.execute_reply": "2024-04-21T08:52:09.524183Z"
    },
    "papermill": {
     "duration": 35784.403449,
     "end_time": "2024-04-21T08:52:09.536230",
     "exception": false,
     "start_time": "2024-04-20T22:55:45.132781",
     "status": "completed"
    },
    "tags": []
   },
   "outputs": [
    {
     "name": "stderr",
     "output_type": "stream",
     "text": [
      "Downloading: \"https://download.pytorch.org/models/convnext_large-ea097f82.pth\" to /root/.cache/torch/hub/checkpoints/convnext_large-ea097f82.pth\n",
      "100%|██████████| 755M/755M [00:04<00:00, 170MB/s]\n"
     ]
    },
    {
     "name": "stdout",
     "output_type": "stream",
     "text": [
      "model load_compelete\n",
      "Epoch 1, Loss: 0.4540923651076237\n",
      "Finished Training\n",
      "model load_compelete\n",
      "Epoch 1, Loss: 0.46305711950505063\n",
      "Finished Training\n",
      "model load_compelete\n",
      "Epoch 1, Loss: 0.4627139191112481\n",
      "Finished Training\n",
      "model load_compelete\n",
      "Epoch 1, Loss: 0.47162555735853984\n",
      "Finished Training\n",
      "model load_compelete\n",
      "Epoch 1, Loss: 0.4416723055689444\n",
      "Finished Training\n",
      "model load_compelete\n",
      "Epoch 1, Loss: 0.45035806642260495\n",
      "Finished Training\n"
     ]
    }
   ],
   "source": [
    "for trail in range(0, 6):\n",
    "    train_dataset = CustomImageDataset(train_df, image_dir, transform=transform)\n",
    "    train_loader = DataLoader(train_dataset, batch_size=4, shuffle=True, num_workers=4)\n",
    "    \n",
    "    model = models.convnext_large(weights = models.ConvNeXt_Large_Weights.IMAGENET1K_V1)\n",
    "    model.classifier[2] = nn.Linear(in_features=model.classifier[2].in_features, out_features=10, bias=True)\n",
    "    \n",
    "    criterion = nn.CrossEntropyLoss()\n",
    "    optimizer = optim.Adam(model.parameters(), lr=6.738220887446238e-06)\n",
    "\n",
    "    device = torch.device(\"cuda\" if torch.cuda.is_available() else \"cpu\")\n",
    "    model.to(device)\n",
    "    \n",
    "    print(\"model load_compelete\")\n",
    "    \n",
    "    dataset = SingleFolderDataset(directory='/kaggle/input/state-farm-distracted-driver-detection/imgs/test', transform=transform)\n",
    "    test_loader = DataLoader(dataset, batch_size=4, shuffle=False, num_workers=4)\n",
    "\n",
    "    def train_model(model, criterion, optimizer, num_epochs, trail):\n",
    "        for epoch in (range(num_epochs)):\n",
    "            model.train()\n",
    "            running_loss = 0.0\n",
    "            for inputs, labels in (train_loader):\n",
    "                inputs, labels = inputs.to(device), labels.to(device)\n",
    "                optimizer.zero_grad()\n",
    "                outputs = model(inputs)\n",
    "                loss = criterion(outputs, labels)\n",
    "                loss.backward()\n",
    "                optimizer.step()\n",
    "                running_loss += loss.item()\n",
    "            print(f'Epoch {epoch+1}, Loss: {running_loss/len(train_loader)}')\n",
    "\n",
    "            file_names, preds = make_predictions_sigmoid(test_loader)\n",
    "            submission_df = pd.DataFrame(preds, columns=[f'c{i}' for i in range(10)])\n",
    "            submission_df.insert(0, 'img', file_names)\n",
    "            submission = \"submission\" + str(trail) + str(epoch) + \".csv\"\n",
    "            submission_df.to_csv(submission, index=False)       \n",
    "\n",
    "        print('Finished Training')\n",
    "    \n",
    "    train_model(model, criterion, optimizer, 1, trail)\n",
    "    "
   ]
  },
  {
   "cell_type": "code",
   "execution_count": null,
   "id": "59b2bc5b",
   "metadata": {
    "papermill": {
     "duration": 0.008335,
     "end_time": "2024-04-21T08:52:09.553262",
     "exception": false,
     "start_time": "2024-04-21T08:52:09.544927",
     "status": "completed"
    },
    "tags": []
   },
   "outputs": [],
   "source": []
  },
  {
   "cell_type": "code",
   "execution_count": null,
   "id": "76bda957",
   "metadata": {
    "papermill": {
     "duration": 0.008213,
     "end_time": "2024-04-21T08:52:09.569962",
     "exception": false,
     "start_time": "2024-04-21T08:52:09.561749",
     "status": "completed"
    },
    "tags": []
   },
   "outputs": [],
   "source": []
  }
 ],
 "metadata": {
  "kaggle": {
   "accelerator": "gpu",
   "dataSources": [
    {
     "databundleVersionId": 868335,
     "sourceId": 5048,
     "sourceType": "competition"
    },
    {
     "datasetId": 4499671,
     "sourceId": 7706955,
     "sourceType": "datasetVersion"
    },
    {
     "datasetId": 4557739,
     "sourceId": 7786938,
     "sourceType": "datasetVersion"
    }
   ],
   "dockerImageVersionId": 30674,
   "isGpuEnabled": true,
   "isInternetEnabled": true,
   "language": "python",
   "sourceType": "notebook"
  },
  "kernelspec": {
   "display_name": "Python 3",
   "language": "python",
   "name": "python3"
  },
  "language_info": {
   "codemirror_mode": {
    "name": "ipython",
    "version": 3
   },
   "file_extension": ".py",
   "mimetype": "text/x-python",
   "name": "python",
   "nbconvert_exporter": "python",
   "pygments_lexer": "ipython3",
   "version": "3.10.13"
  },
  "papermill": {
   "default_parameters": {},
   "duration": 35798.104715,
   "end_time": "2024-04-21T08:52:11.671006",
   "environment_variables": {},
   "exception": null,
   "input_path": "__notebook__.ipynb",
   "output_path": "__notebook__.ipynb",
   "parameters": {},
   "start_time": "2024-04-20T22:55:33.566291",
   "version": "2.5.0"
  }
 },
 "nbformat": 4,
 "nbformat_minor": 5
}
