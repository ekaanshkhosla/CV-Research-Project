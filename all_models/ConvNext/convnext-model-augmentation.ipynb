{
 "cells": [
  {
   "cell_type": "code",
   "execution_count": 1,
   "id": "8124c0ac",
   "metadata": {
    "_cell_guid": "b1076dfc-b9ad-4769-8c92-a6c4dae69d19",
    "_uuid": "8f2839f25d086af736a60e9eeb907d3b93b6e0e5",
    "execution": {
     "iopub.execute_input": "2024-04-20T22:54:37.602088Z",
     "iopub.status.busy": "2024-04-20T22:54:37.601746Z",
     "iopub.status.idle": "2024-04-20T22:54:46.459187Z",
     "shell.execute_reply": "2024-04-20T22:54:46.458188Z"
    },
    "papermill": {
     "duration": 8.865055,
     "end_time": "2024-04-20T22:54:46.461499",
     "exception": false,
     "start_time": "2024-04-20T22:54:37.596444",
     "status": "completed"
    },
    "tags": []
   },
   "outputs": [],
   "source": [
    "from PIL import Image\n",
    "import torch\n",
    "import os\n",
    "import cv2\n",
    "from tqdm import tqdm\n",
    "import copy\n",
    "import torch.optim as optim\n",
    "import numpy as np\n",
    "import optuna\n",
    "from sklearn.metrics import f1_score\n",
    "from optuna.exceptions import TrialPruned\n",
    "import random\n",
    "import torch.nn as nn\n",
    "from torchvision import datasets, models, transforms\n",
    "from torch.utils.data import DataLoader, Dataset\n",
    "import pandas as pd\n",
    "from skimage import io"
   ]
  },
  {
   "cell_type": "code",
   "execution_count": 2,
   "id": "05d33272",
   "metadata": {
    "execution": {
     "iopub.execute_input": "2024-04-20T22:54:46.470467Z",
     "iopub.status.busy": "2024-04-20T22:54:46.470038Z",
     "iopub.status.idle": "2024-04-20T22:54:46.474615Z",
     "shell.execute_reply": "2024-04-20T22:54:46.473820Z"
    },
    "papermill": {
     "duration": 0.011076,
     "end_time": "2024-04-20T22:54:46.476531",
     "exception": false,
     "start_time": "2024-04-20T22:54:46.465455",
     "status": "completed"
    },
    "tags": []
   },
   "outputs": [],
   "source": [
    "working_folder = os.path.abspath(\"\")\n",
    "image_dir = os.path.join(working_folder, \"/kaggle/input/all-images/data_all\")"
   ]
  },
  {
   "cell_type": "code",
   "execution_count": 3,
   "id": "707d320c",
   "metadata": {
    "execution": {
     "iopub.execute_input": "2024-04-20T22:54:46.485067Z",
     "iopub.status.busy": "2024-04-20T22:54:46.484266Z",
     "iopub.status.idle": "2024-04-20T22:54:46.487956Z",
     "shell.execute_reply": "2024-04-20T22:54:46.487297Z"
    },
    "papermill": {
     "duration": 0.00992,
     "end_time": "2024-04-20T22:54:46.489865",
     "exception": false,
     "start_time": "2024-04-20T22:54:46.479945",
     "status": "completed"
    },
    "tags": []
   },
   "outputs": [],
   "source": [
    "train_df = '/kaggle/input/train-full/train_full.csv'"
   ]
  },
  {
   "cell_type": "code",
   "execution_count": 4,
   "id": "261513f0",
   "metadata": {
    "execution": {
     "iopub.execute_input": "2024-04-20T22:54:46.497729Z",
     "iopub.status.busy": "2024-04-20T22:54:46.497472Z",
     "iopub.status.idle": "2024-04-20T22:54:46.504287Z",
     "shell.execute_reply": "2024-04-20T22:54:46.503520Z"
    },
    "papermill": {
     "duration": 0.012908,
     "end_time": "2024-04-20T22:54:46.506173",
     "exception": false,
     "start_time": "2024-04-20T22:54:46.493265",
     "status": "completed"
    },
    "tags": []
   },
   "outputs": [],
   "source": [
    "class CustomImageDataset(Dataset):\n",
    "    def __init__(self, csv_file, root_dir, transform):\n",
    "        self.annotations = pd.read_csv(csv_file)\n",
    "        self.root_dir = root_dir\n",
    "        self.transform = transform\n",
    "\n",
    "    def __len__(self):\n",
    "        return len(self.annotations)\n",
    "\n",
    "    def __getitem__(self, index):\n",
    "        img_id = self.annotations.iloc[index, 1]\n",
    "        img_name = os.path.join(self.root_dir, f\"{img_id}\")\n",
    "        image = Image.open(img_name).convert('RGB')\n",
    "        label = int(self.annotations.iloc[index, 0][-1])  # Extract class number\n",
    "\n",
    "        if self.transform:\n",
    "            image = self.transform(image)\n",
    "\n",
    "        return image, label"
   ]
  },
  {
   "cell_type": "code",
   "execution_count": 5,
   "id": "ebb49663",
   "metadata": {
    "execution": {
     "iopub.execute_input": "2024-04-20T22:54:46.514173Z",
     "iopub.status.busy": "2024-04-20T22:54:46.513611Z",
     "iopub.status.idle": "2024-04-20T22:54:46.520288Z",
     "shell.execute_reply": "2024-04-20T22:54:46.519434Z"
    },
    "papermill": {
     "duration": 0.0126,
     "end_time": "2024-04-20T22:54:46.522198",
     "exception": false,
     "start_time": "2024-04-20T22:54:46.509598",
     "status": "completed"
    },
    "tags": []
   },
   "outputs": [],
   "source": [
    "transform = transforms.Compose([\n",
    "    transforms.Resize((256, 256)),  \n",
    "    transforms.ColorJitter(\n",
    "        brightness=(0.75, 1.25), \n",
    "        contrast=(0.75, 1.25),    \n",
    "        saturation=(0.5, 1.5),   \n",
    "        hue=(-0.05, 0.05)\n",
    "    ),\n",
    "    transforms.RandomAffine(\n",
    "        degrees=(-5, 5),\n",
    "        translate=None,\n",
    "        scale=None,\n",
    "        shear=(-5, 5)\n",
    "    ),\n",
    "    transforms.RandomPerspective(\n",
    "        distortion_scale=0.15,\n",
    "        p=0.5,\n",
    "        fill=0\n",
    "    ),\n",
    "    transforms.ToTensor(),\n",
    "    transforms.Normalize(mean=[0.485, 0.456, 0.406], std=[0.229, 0.224, 0.225])  # Normalize images\n",
    "])"
   ]
  },
  {
   "cell_type": "code",
   "execution_count": 6,
   "id": "8320c60c",
   "metadata": {
    "execution": {
     "iopub.execute_input": "2024-04-20T22:54:46.530284Z",
     "iopub.status.busy": "2024-04-20T22:54:46.529845Z",
     "iopub.status.idle": "2024-04-20T22:54:46.536285Z",
     "shell.execute_reply": "2024-04-20T22:54:46.535444Z"
    },
    "papermill": {
     "duration": 0.012585,
     "end_time": "2024-04-20T22:54:46.538258",
     "exception": false,
     "start_time": "2024-04-20T22:54:46.525673",
     "status": "completed"
    },
    "tags": []
   },
   "outputs": [],
   "source": [
    "class SingleFolderDataset(Dataset):\n",
    "    def __init__(self, directory, transform):\n",
    "        self.directory = directory\n",
    "        self.transform = transform\n",
    "        self.image_filenames = [f for f in os.listdir(directory) if os.path.isfile(os.path.join(directory, f))]\n",
    "\n",
    "    def __len__(self):\n",
    "        return len(self.image_filenames)\n",
    "\n",
    "    def __getitem__(self, idx):\n",
    "        image_name = self.image_filenames[idx]\n",
    "        image_path = os.path.join(self.directory, image_name)\n",
    "        image = Image.open(image_path).convert('RGB')\n",
    "        if self.transform:\n",
    "            image = self.transform(image)\n",
    "        return image, image_name"
   ]
  },
  {
   "cell_type": "code",
   "execution_count": 7,
   "id": "c5c89064",
   "metadata": {
    "execution": {
     "iopub.execute_input": "2024-04-20T22:54:46.545853Z",
     "iopub.status.busy": "2024-04-20T22:54:46.545598Z",
     "iopub.status.idle": "2024-04-20T22:54:46.551365Z",
     "shell.execute_reply": "2024-04-20T22:54:46.550535Z"
    },
    "papermill": {
     "duration": 0.01166,
     "end_time": "2024-04-20T22:54:46.553256",
     "exception": false,
     "start_time": "2024-04-20T22:54:46.541596",
     "status": "completed"
    },
    "tags": []
   },
   "outputs": [],
   "source": [
    "def make_predictions_sigmoid(data_loader):\n",
    "    model.eval()\n",
    "    y_pred = []\n",
    "    file_names = []\n",
    "    with torch.no_grad():\n",
    "        for inputs, paths in (data_loader):\n",
    "            inputs = inputs.to(device)\n",
    "            outputs = model(inputs)\n",
    "            probabilities = torch.nn.functional.softmax(outputs, dim=1)\n",
    "            y_pred.extend(probabilities.cpu().numpy())\n",
    "            file_names.extend([os.path.basename(path) for path in paths])\n",
    "            \n",
    "    return file_names, y_pred"
   ]
  },
  {
   "cell_type": "code",
   "execution_count": 8,
   "id": "850ba3db",
   "metadata": {
    "execution": {
     "iopub.execute_input": "2024-04-20T22:54:46.561383Z",
     "iopub.status.busy": "2024-04-20T22:54:46.561107Z",
     "iopub.status.idle": "2024-04-21T08:51:46.824044Z",
     "shell.execute_reply": "2024-04-21T08:51:46.822887Z"
    },
    "papermill": {
     "duration": 35820.297203,
     "end_time": "2024-04-21T08:51:46.853908",
     "exception": false,
     "start_time": "2024-04-20T22:54:46.556705",
     "status": "completed"
    },
    "tags": []
   },
   "outputs": [
    {
     "name": "stderr",
     "output_type": "stream",
     "text": [
      "Downloading: \"https://download.pytorch.org/models/convnext_large-ea097f82.pth\" to /root/.cache/torch/hub/checkpoints/convnext_large-ea097f82.pth\n",
      "100%|██████████| 755M/755M [00:57<00:00, 13.7MB/s]\n"
     ]
    },
    {
     "name": "stdout",
     "output_type": "stream",
     "text": [
      "model load_compelete\n",
      "Epoch 1, Loss: 0.5127565085722111\n",
      "Finished Training\n",
      "model load_compelete\n",
      "Epoch 1, Loss: 0.5228295056671841\n",
      "Finished Training\n",
      "model load_compelete\n",
      "Epoch 1, Loss: 0.5029433804666016\n",
      "Finished Training\n",
      "model load_compelete\n",
      "Epoch 1, Loss: 0.5076060191386944\n",
      "Finished Training\n",
      "model load_compelete\n",
      "Epoch 1, Loss: 0.5288955190946134\n",
      "Finished Training\n",
      "model load_compelete\n",
      "Epoch 1, Loss: 0.5132249402649145\n",
      "Finished Training\n"
     ]
    }
   ],
   "source": [
    "for trail in range(0, 6):\n",
    "    train_dataset = CustomImageDataset(train_df, image_dir, transform=transform)\n",
    "    train_loader = DataLoader(train_dataset, batch_size=4, shuffle=True, num_workers=4)\n",
    "    \n",
    "    model = models.convnext_large(weights = models.ConvNeXt_Large_Weights.IMAGENET1K_V1)\n",
    "    model.classifier[2] = nn.Linear(in_features=model.classifier[2].in_features, out_features=10, bias=True)\n",
    "    \n",
    "    criterion = nn.CrossEntropyLoss()\n",
    "    optimizer = optim.Adam(model.parameters(), lr=6.738220887446238e-06)\n",
    "\n",
    "    device = torch.device(\"cuda\" if torch.cuda.is_available() else \"cpu\")\n",
    "    model.to(device)\n",
    "    \n",
    "    print(\"model load_compelete\")\n",
    "    \n",
    "    dataset = SingleFolderDataset(directory='/kaggle/input/state-farm-distracted-driver-detection/imgs/test', transform=transform)\n",
    "    test_loader = DataLoader(dataset, batch_size=4, shuffle=False, num_workers=4)\n",
    "\n",
    "    def train_model(model, criterion, optimizer, num_epochs, trail):\n",
    "        for epoch in (range(num_epochs)):\n",
    "            model.train()\n",
    "            running_loss = 0.0\n",
    "            for inputs, labels in (train_loader):\n",
    "                inputs, labels = inputs.to(device), labels.to(device)\n",
    "                optimizer.zero_grad()\n",
    "                outputs = model(inputs)\n",
    "                loss = criterion(outputs, labels)\n",
    "                loss.backward()\n",
    "                optimizer.step()\n",
    "                running_loss += loss.item()\n",
    "            print(f'Epoch {epoch+1}, Loss: {running_loss/len(train_loader)}')\n",
    "\n",
    "            file_names, preds = make_predictions_sigmoid(test_loader)\n",
    "            submission_df = pd.DataFrame(preds, columns=[f'c{i}' for i in range(10)])\n",
    "            submission_df.insert(0, 'img', file_names)\n",
    "            submission = \"submission\" + str(trail) + str(epoch) + \".csv\"\n",
    "            submission_df.to_csv(submission, index=False)       \n",
    "\n",
    "        print('Finished Training')\n",
    "    \n",
    "    train_model(model, criterion, optimizer, 1, trail)\n",
    "    "
   ]
  },
  {
   "cell_type": "code",
   "execution_count": null,
   "id": "8219f755",
   "metadata": {
    "papermill": {
     "duration": 0.027577,
     "end_time": "2024-04-21T08:51:46.908780",
     "exception": false,
     "start_time": "2024-04-21T08:51:46.881203",
     "status": "completed"
    },
    "tags": []
   },
   "outputs": [],
   "source": []
  },
  {
   "cell_type": "code",
   "execution_count": null,
   "id": "a2c8eb84",
   "metadata": {
    "papermill": {
     "duration": 0.02723,
     "end_time": "2024-04-21T08:51:46.963220",
     "exception": false,
     "start_time": "2024-04-21T08:51:46.935990",
     "status": "completed"
    },
    "tags": []
   },
   "outputs": [],
   "source": []
  }
 ],
 "metadata": {
  "kaggle": {
   "accelerator": "gpu",
   "dataSources": [
    {
     "databundleVersionId": 868335,
     "sourceId": 5048,
     "sourceType": "competition"
    },
    {
     "datasetId": 4499671,
     "sourceId": 7706955,
     "sourceType": "datasetVersion"
    },
    {
     "datasetId": 4557739,
     "sourceId": 7786938,
     "sourceType": "datasetVersion"
    }
   ],
   "dockerImageVersionId": 30674,
   "isGpuEnabled": true,
   "isInternetEnabled": true,
   "language": "python",
   "sourceType": "notebook"
  },
  "kernelspec": {
   "display_name": "Python 3",
   "language": "python",
   "name": "python3"
  },
  "language_info": {
   "codemirror_mode": {
    "name": "ipython",
    "version": 3
   },
   "file_extension": ".py",
   "mimetype": "text/x-python",
   "name": "python",
   "nbconvert_exporter": "python",
   "pygments_lexer": "ipython3",
   "version": "3.10.13"
  },
  "papermill": {
   "default_parameters": {},
   "duration": 35834.616622,
   "end_time": "2024-04-21T08:51:49.554426",
   "environment_variables": {},
   "exception": null,
   "input_path": "__notebook__.ipynb",
   "output_path": "__notebook__.ipynb",
   "parameters": {},
   "start_time": "2024-04-20T22:54:34.937804",
   "version": "2.5.0"
  }
 },
 "nbformat": 4,
 "nbformat_minor": 5
}
